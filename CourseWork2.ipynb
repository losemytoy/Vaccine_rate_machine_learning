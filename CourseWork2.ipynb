{
 "cells": [
  {
   "cell_type": "code",
   "execution_count": null,
   "metadata": {
    "collapsed": false
   },
   "outputs": [],
   "source": [
    "from google.colab import drive\n",
    "drive.mount('/content/drive')"
   ]
  },
  {
   "cell_type": "code",
   "execution_count": null,
   "metadata": {},
   "outputs": [],
   "source": [
    "pip install imblearn"
   ]
  },
  {
   "cell_type": "code",
   "execution_count": null,
   "metadata": {
    "collapsed": false
   },
   "outputs": [],
   "source": [
    "pip install catboost"
   ]
  },
  {
   "cell_type": "code",
   "execution_count": null,
   "metadata": {
    "collapsed": false
   },
   "outputs": [],
   "source": [
    "pip install seaborn"
   ]
  },
  {
   "cell_type": "code",
   "execution_count": null,
   "metadata": {},
   "outputs": [],
   "source": [
    "pip install optuna"
   ]
  },
  {
   "cell_type": "code",
   "execution_count": 28,
   "metadata": {
    "execution": {
     "iopub.execute_input": "2023-04-01T14:21:25.358714Z",
     "iopub.status.busy": "2023-04-01T14:21:25.357687Z",
     "iopub.status.idle": "2023-04-01T14:21:25.925930Z",
     "shell.execute_reply": "2023-04-01T14:21:25.924588Z",
     "shell.execute_reply.started": "2023-04-01T14:21:25.358672Z"
    },
    "executionInfo": {
     "elapsed": 2812,
     "status": "ok",
     "timestamp": 1680519987995,
     "user": {
      "displayName": "Yiming Lin",
      "userId": "14561580860602707809"
     },
     "user_tz": -60
    },
    "id": "Yuf0ndwDB5aR",
    "pycharm": {
     "is_executing": true
    },
    "trusted": true
   },
   "outputs": [],
   "source": [
    "import pandas as pd\n",
    "import seaborn as sns\n",
    "from sklearn.experimental import enable_iterative_imputer\n",
    "from sklearn.impute import IterativeImputer\n",
    "import numpy as np\n",
    "import matplotlib.pyplot as plt\n",
    "from sklearn import preprocessing\n",
    "from sklearn.model_selection import GridSearchCV, KFold,StratifiedKFold, cross_val_score\n",
    "from catboost import CatBoostClassifier, Pool\n",
    "from catboost import cv\n",
    "from sklearn.metrics import confusion_matrix, classification_report, RocCurveDisplay, accuracy_score, f1_score, roc_auc_score\n",
    "from sklearn import metrics\n",
    "from sklearn.ensemble import GradientBoostingClassifier\n",
    "from sklearn.ensemble import RandomForestClassifier as RFC\n",
    "from sklearn.feature_selection import RFE\n",
    "import optuna"
   ]
  },
  {
   "cell_type": "code",
   "execution_count": 80,
   "metadata": {
    "execution": {
     "iopub.execute_input": "2023-04-01T14:21:28.255063Z",
     "iopub.status.busy": "2023-04-01T14:21:28.253716Z",
     "iopub.status.idle": "2023-04-01T14:21:28.382876Z",
     "shell.execute_reply": "2023-04-01T14:21:28.381530Z",
     "shell.execute_reply.started": "2023-04-01T14:21:28.255007Z"
    },
    "executionInfo": {
     "elapsed": 1724,
     "status": "ok",
     "timestamp": 1680520021756,
     "user": {
      "displayName": "Yiming Lin",
      "userId": "14561580860602707809"
     },
     "user_tz": -60
    },
    "id": "O3neG1sLB5aT",
    "pycharm": {
     "is_executing": true
    },
    "trusted": true
   },
   "outputs": [],
   "source": [
    "df_feature = pd.read_csv('./training_set_features.csv', index_col=False)\n",
    "df_label = pd.read_csv('./training_set_labels.csv', index_col=False)"
   ]
  },
  {
   "cell_type": "code",
   "execution_count": 81,
   "metadata": {
    "execution": {
     "iopub.execute_input": "2023-04-01T14:21:31.969336Z",
     "iopub.status.busy": "2023-04-01T14:21:31.968042Z",
     "iopub.status.idle": "2023-04-01T14:21:31.987733Z",
     "shell.execute_reply": "2023-04-01T14:21:31.986296Z",
     "shell.execute_reply.started": "2023-04-01T14:21:31.969286Z"
    },
    "executionInfo": {
     "elapsed": 2,
     "status": "ok",
     "timestamp": 1680520024534,
     "user": {
      "displayName": "Yiming Lin",
      "userId": "14561580860602707809"
     },
     "user_tz": -60
    },
    "id": "5cqDk3STB5aU",
    "trusted": true
   },
   "outputs": [],
   "source": [
    "df_feature.replace('',np.nan,inplace=True)"
   ]
  },
  {
   "cell_type": "code",
   "execution_count": 82,
   "metadata": {},
   "outputs": [],
   "source": [
    "cat_cols = ['h1n1_concern', 'h1n1_knowledge','opinion_h1n1_vacc_effective', 'opinion_h1n1_risk', 'opinion_h1n1_sick_from_vacc', 'opinion_seas_vacc_effective', 'opinion_seas_risk', 'opinion_seas_sick_from_vacc','doctor_recc_h1n1','doctor_recc_seasonal','chronic_med_condition','health_worker','hhs_geo_region','census_msa','age_group','education','race','sex','income_poverty','marital_status','rent_or_own','employment_status']"
   ]
  },
  {
   "cell_type": "code",
   "execution_count": 83,
   "metadata": {},
   "outputs": [],
   "source": [
    "for item in cat_cols:\n",
    "    df_feature[item] = df_feature[item] .astype(\"category\").cat.codes+1"
   ]
  },
  {
   "cell_type": "code",
   "execution_count": 16,
   "metadata": {
    "execution": {
     "iopub.execute_input": "2023-04-01T14:21:42.476513Z",
     "iopub.status.busy": "2023-04-01T14:21:42.476056Z",
     "iopub.status.idle": "2023-04-01T14:21:42.491593Z",
     "shell.execute_reply": "2023-04-01T14:21:42.489973Z",
     "shell.execute_reply.started": "2023-04-01T14:21:42.476475Z"
    },
    "executionInfo": {
     "elapsed": 2,
     "status": "ok",
     "timestamp": 1680520024835,
     "user": {
      "displayName": "Yiming Lin",
      "userId": "14561580860602707809"
     },
     "user_tz": -60
    },
    "id": "UHD2JHu6B5aV",
    "trusted": true
   },
   "outputs": [],
   "source": [
    "df_feature['h1n1_vaccine'] = df_label['h1n1_vaccine']\n",
    "df_feature['seasonal_vaccine'] = df_label['seasonal_vaccine']\n",
    "df_vac = df_label['h1n1_vaccine'] | df_label['seasonal_vaccine']"
   ]
  },
  {
   "cell_type": "code",
   "execution_count": 84,
   "metadata": {
    "execution": {
     "iopub.execute_input": "2023-04-01T14:21:45.120915Z",
     "iopub.status.busy": "2023-04-01T14:21:45.119585Z",
     "iopub.status.idle": "2023-04-01T14:21:45.140646Z",
     "shell.execute_reply": "2023-04-01T14:21:45.139161Z",
     "shell.execute_reply.started": "2023-04-01T14:21:45.120857Z"
    },
    "executionInfo": {
     "elapsed": 2,
     "status": "ok",
     "timestamp": 1680520028695,
     "user": {
      "displayName": "Yiming Lin",
      "userId": "14561580860602707809"
     },
     "user_tz": -60
    },
    "id": "3MU6KNYqB5aV",
    "trusted": true
   },
   "outputs": [],
   "source": [
    "df_feature = df_feature.drop(columns='respondent_id',axis=1)"
   ]
  },
  {
   "cell_type": "code",
   "execution_count": null,
   "metadata": {
    "id": "4nB7FPuSypLv"
   },
   "outputs": [],
   "source": [
    "num_cols = df_feature.select_dtype('number').columns"
   ]
  },
  {
   "cell_type": "code",
   "execution_count": null,
   "metadata": {
    "id": "BlSHbLrvB5aW"
   },
   "outputs": [],
   "source": [
    "df_feature.describe()"
   ]
  },
  {
   "cell_type": "code",
   "execution_count": null,
   "metadata": {
    "id": "-3u0d2C-B5aW"
   },
   "outputs": [],
   "source": [
    "df_feature.isnull().sum(axis=0)"
   ]
  },
  {
   "cell_type": "code",
   "execution_count": null,
   "metadata": {
    "id": "0CGkxvuDB5aW"
   },
   "outputs": [],
   "source": [
    "df_label.describe()"
   ]
  },
  {
   "cell_type": "code",
   "execution_count": null,
   "metadata": {
    "id": "I1h_tsx_B5aX"
   },
   "outputs": [],
   "source": [
    "sns.countplot(x=df_label['h1n1_vaccine'], data=df_label)"
   ]
  },
  {
   "cell_type": "code",
   "execution_count": null,
   "metadata": {
    "id": "VbGk7JG5B5aX"
   },
   "outputs": [],
   "source": [
    "sns.countplot(x=df_label['seasonal_vaccine'], data=df_label)"
   ]
  },
  {
   "cell_type": "code",
   "execution_count": null,
   "metadata": {
    "id": "zisd1ML2B5aY"
   },
   "outputs": [],
   "source": [
    "plt.hist(df_feature[\"age_group\"], bins = 5)\n",
    "\n",
    "plt.xlabel(\"Hourse Power\")\n",
    "plt.ylabel(\"Count\")\n",
    "plt.title(\"Total Horsepower Bins\")"
   ]
  },
  {
   "cell_type": "code",
   "execution_count": 77,
   "metadata": {
    "execution": {
     "iopub.execute_input": "2023-04-01T14:21:54.152794Z",
     "iopub.status.busy": "2023-04-01T14:21:54.151492Z",
     "iopub.status.idle": "2023-04-01T14:21:54.253626Z",
     "shell.execute_reply": "2023-04-01T14:21:54.252344Z",
     "shell.execute_reply.started": "2023-04-01T14:21:54.152745Z"
    },
    "executionInfo": {
     "elapsed": 410,
     "status": "ok",
     "timestamp": 1680520038438,
     "user": {
      "displayName": "Yiming Lin",
      "userId": "14561580860602707809"
     },
     "user_tz": -60
    },
    "id": "-kE7tsIDB5aZ",
    "trusted": true
   },
   "outputs": [],
   "source": [
    "columns = ['hhs_geo_region','census_msa','age_group','education','race','sex','income_poverty','marital_status','rent_or_own','employment_status']\n",
    "encoder = preprocessing.LabelEncoder()\n",
    "for column in columns:\n",
    "    df_feature[column] = encoder.fit_transform(df_feature[column])"
   ]
  },
  {
   "cell_type": "code",
   "execution_count": 78,
   "metadata": {
    "colab": {
     "base_uri": "https://localhost:8080/",
     "height": 487
    },
    "execution": {
     "iopub.execute_input": "2023-04-01T14:21:57.283454Z",
     "iopub.status.busy": "2023-04-01T14:21:57.282185Z",
     "iopub.status.idle": "2023-04-01T14:21:57.374183Z",
     "shell.execute_reply": "2023-04-01T14:21:57.372897Z",
     "shell.execute_reply.started": "2023-04-01T14:21:57.283405Z"
    },
    "executionInfo": {
     "elapsed": 8,
     "status": "ok",
     "timestamp": 1680520039566,
     "user": {
      "displayName": "Yiming Lin",
      "userId": "14561580860602707809"
     },
     "user_tz": -60
    },
    "id": "Kjn1lHBfB5aZ",
    "outputId": "963e328e-933b-4f50-9520-2f65068be7d5",
    "trusted": true
   },
   "outputs": [
    {
     "data": {
      "text/html": [
       "<div>\n",
       "<style scoped>\n",
       "    .dataframe tbody tr th:only-of-type {\n",
       "        vertical-align: middle;\n",
       "    }\n",
       "\n",
       "    .dataframe tbody tr th {\n",
       "        vertical-align: top;\n",
       "    }\n",
       "\n",
       "    .dataframe thead th {\n",
       "        text-align: right;\n",
       "    }\n",
       "</style>\n",
       "<table border=\"1\" class=\"dataframe\">\n",
       "  <thead>\n",
       "    <tr style=\"text-align: right;\">\n",
       "      <th></th>\n",
       "      <th>h1n1_concern</th>\n",
       "      <th>h1n1_knowledge</th>\n",
       "      <th>behavioral_antiviral_meds</th>\n",
       "      <th>behavioral_avoidance</th>\n",
       "      <th>behavioral_face_mask</th>\n",
       "      <th>behavioral_wash_hands</th>\n",
       "      <th>behavioral_large_gatherings</th>\n",
       "      <th>behavioral_outside_home</th>\n",
       "      <th>behavioral_touch_face</th>\n",
       "      <th>doctor_recc_h1n1</th>\n",
       "      <th>...</th>\n",
       "      <th>race</th>\n",
       "      <th>sex</th>\n",
       "      <th>income_poverty</th>\n",
       "      <th>marital_status</th>\n",
       "      <th>rent_or_own</th>\n",
       "      <th>employment_status</th>\n",
       "      <th>hhs_geo_region</th>\n",
       "      <th>census_msa</th>\n",
       "      <th>household_adults</th>\n",
       "      <th>household_children</th>\n",
       "    </tr>\n",
       "  </thead>\n",
       "  <tbody>\n",
       "    <tr>\n",
       "      <th>0</th>\n",
       "      <td>2</td>\n",
       "      <td>1</td>\n",
       "      <td>0.0</td>\n",
       "      <td>0.0</td>\n",
       "      <td>0.0</td>\n",
       "      <td>0.0</td>\n",
       "      <td>0.0</td>\n",
       "      <td>1.0</td>\n",
       "      <td>1.0</td>\n",
       "      <td>1</td>\n",
       "      <td>...</td>\n",
       "      <td>3</td>\n",
       "      <td>0</td>\n",
       "      <td>2</td>\n",
       "      <td>1</td>\n",
       "      <td>0</td>\n",
       "      <td>1</td>\n",
       "      <td>8</td>\n",
       "      <td>2</td>\n",
       "      <td>0.0</td>\n",
       "      <td>0.0</td>\n",
       "    </tr>\n",
       "    <tr>\n",
       "      <th>1</th>\n",
       "      <td>4</td>\n",
       "      <td>3</td>\n",
       "      <td>0.0</td>\n",
       "      <td>1.0</td>\n",
       "      <td>0.0</td>\n",
       "      <td>1.0</td>\n",
       "      <td>0.0</td>\n",
       "      <td>1.0</td>\n",
       "      <td>1.0</td>\n",
       "      <td>1</td>\n",
       "      <td>...</td>\n",
       "      <td>3</td>\n",
       "      <td>1</td>\n",
       "      <td>2</td>\n",
       "      <td>1</td>\n",
       "      <td>1</td>\n",
       "      <td>0</td>\n",
       "      <td>1</td>\n",
       "      <td>0</td>\n",
       "      <td>0.0</td>\n",
       "      <td>0.0</td>\n",
       "    </tr>\n",
       "    <tr>\n",
       "      <th>2</th>\n",
       "      <td>2</td>\n",
       "      <td>2</td>\n",
       "      <td>0.0</td>\n",
       "      <td>1.0</td>\n",
       "      <td>0.0</td>\n",
       "      <td>0.0</td>\n",
       "      <td>0.0</td>\n",
       "      <td>0.0</td>\n",
       "      <td>0.0</td>\n",
       "      <td>0</td>\n",
       "      <td>...</td>\n",
       "      <td>3</td>\n",
       "      <td>1</td>\n",
       "      <td>0</td>\n",
       "      <td>1</td>\n",
       "      <td>0</td>\n",
       "      <td>0</td>\n",
       "      <td>9</td>\n",
       "      <td>0</td>\n",
       "      <td>2.0</td>\n",
       "      <td>0.0</td>\n",
       "    </tr>\n",
       "    <tr>\n",
       "      <th>3</th>\n",
       "      <td>2</td>\n",
       "      <td>2</td>\n",
       "      <td>0.0</td>\n",
       "      <td>1.0</td>\n",
       "      <td>0.0</td>\n",
       "      <td>1.0</td>\n",
       "      <td>1.0</td>\n",
       "      <td>0.0</td>\n",
       "      <td>0.0</td>\n",
       "      <td>1</td>\n",
       "      <td>...</td>\n",
       "      <td>3</td>\n",
       "      <td>0</td>\n",
       "      <td>2</td>\n",
       "      <td>1</td>\n",
       "      <td>1</td>\n",
       "      <td>1</td>\n",
       "      <td>5</td>\n",
       "      <td>1</td>\n",
       "      <td>0.0</td>\n",
       "      <td>0.0</td>\n",
       "    </tr>\n",
       "    <tr>\n",
       "      <th>4</th>\n",
       "      <td>3</td>\n",
       "      <td>2</td>\n",
       "      <td>0.0</td>\n",
       "      <td>1.0</td>\n",
       "      <td>0.0</td>\n",
       "      <td>1.0</td>\n",
       "      <td>1.0</td>\n",
       "      <td>0.0</td>\n",
       "      <td>1.0</td>\n",
       "      <td>1</td>\n",
       "      <td>...</td>\n",
       "      <td>3</td>\n",
       "      <td>0</td>\n",
       "      <td>0</td>\n",
       "      <td>0</td>\n",
       "      <td>0</td>\n",
       "      <td>0</td>\n",
       "      <td>9</td>\n",
       "      <td>0</td>\n",
       "      <td>1.0</td>\n",
       "      <td>0.0</td>\n",
       "    </tr>\n",
       "    <tr>\n",
       "      <th>...</th>\n",
       "      <td>...</td>\n",
       "      <td>...</td>\n",
       "      <td>...</td>\n",
       "      <td>...</td>\n",
       "      <td>...</td>\n",
       "      <td>...</td>\n",
       "      <td>...</td>\n",
       "      <td>...</td>\n",
       "      <td>...</td>\n",
       "      <td>...</td>\n",
       "      <td>...</td>\n",
       "      <td>...</td>\n",
       "      <td>...</td>\n",
       "      <td>...</td>\n",
       "      <td>...</td>\n",
       "      <td>...</td>\n",
       "      <td>...</td>\n",
       "      <td>...</td>\n",
       "      <td>...</td>\n",
       "      <td>...</td>\n",
       "      <td>...</td>\n",
       "    </tr>\n",
       "    <tr>\n",
       "      <th>26702</th>\n",
       "      <td>3</td>\n",
       "      <td>1</td>\n",
       "      <td>0.0</td>\n",
       "      <td>1.0</td>\n",
       "      <td>0.0</td>\n",
       "      <td>0.0</td>\n",
       "      <td>0.0</td>\n",
       "      <td>1.0</td>\n",
       "      <td>0.0</td>\n",
       "      <td>1</td>\n",
       "      <td>...</td>\n",
       "      <td>3</td>\n",
       "      <td>0</td>\n",
       "      <td>0</td>\n",
       "      <td>1</td>\n",
       "      <td>0</td>\n",
       "      <td>1</td>\n",
       "      <td>9</td>\n",
       "      <td>2</td>\n",
       "      <td>0.0</td>\n",
       "      <td>0.0</td>\n",
       "    </tr>\n",
       "    <tr>\n",
       "      <th>26703</th>\n",
       "      <td>2</td>\n",
       "      <td>3</td>\n",
       "      <td>0.0</td>\n",
       "      <td>1.0</td>\n",
       "      <td>0.0</td>\n",
       "      <td>1.0</td>\n",
       "      <td>0.0</td>\n",
       "      <td>0.0</td>\n",
       "      <td>0.0</td>\n",
       "      <td>2</td>\n",
       "      <td>...</td>\n",
       "      <td>3</td>\n",
       "      <td>1</td>\n",
       "      <td>0</td>\n",
       "      <td>1</td>\n",
       "      <td>1</td>\n",
       "      <td>0</td>\n",
       "      <td>6</td>\n",
       "      <td>1</td>\n",
       "      <td>1.0</td>\n",
       "      <td>0.0</td>\n",
       "    </tr>\n",
       "    <tr>\n",
       "      <th>26704</th>\n",
       "      <td>3</td>\n",
       "      <td>3</td>\n",
       "      <td>0.0</td>\n",
       "      <td>1.0</td>\n",
       "      <td>1.0</td>\n",
       "      <td>1.0</td>\n",
       "      <td>1.0</td>\n",
       "      <td>0.0</td>\n",
       "      <td>1.0</td>\n",
       "      <td>1</td>\n",
       "      <td>...</td>\n",
       "      <td>3</td>\n",
       "      <td>0</td>\n",
       "      <td>3</td>\n",
       "      <td>1</td>\n",
       "      <td>0</td>\n",
       "      <td>3</td>\n",
       "      <td>6</td>\n",
       "      <td>0</td>\n",
       "      <td>0.0</td>\n",
       "      <td>0.0</td>\n",
       "    </tr>\n",
       "    <tr>\n",
       "      <th>26705</th>\n",
       "      <td>2</td>\n",
       "      <td>2</td>\n",
       "      <td>0.0</td>\n",
       "      <td>0.0</td>\n",
       "      <td>0.0</td>\n",
       "      <td>0.0</td>\n",
       "      <td>0.0</td>\n",
       "      <td>0.0</td>\n",
       "      <td>NaN</td>\n",
       "      <td>1</td>\n",
       "      <td>...</td>\n",
       "      <td>1</td>\n",
       "      <td>0</td>\n",
       "      <td>0</td>\n",
       "      <td>0</td>\n",
       "      <td>1</td>\n",
       "      <td>0</td>\n",
       "      <td>5</td>\n",
       "      <td>2</td>\n",
       "      <td>1.0</td>\n",
       "      <td>0.0</td>\n",
       "    </tr>\n",
       "    <tr>\n",
       "      <th>26706</th>\n",
       "      <td>1</td>\n",
       "      <td>1</td>\n",
       "      <td>0.0</td>\n",
       "      <td>1.0</td>\n",
       "      <td>0.0</td>\n",
       "      <td>0.0</td>\n",
       "      <td>0.0</td>\n",
       "      <td>0.0</td>\n",
       "      <td>0.0</td>\n",
       "      <td>1</td>\n",
       "      <td>...</td>\n",
       "      <td>3</td>\n",
       "      <td>1</td>\n",
       "      <td>0</td>\n",
       "      <td>0</td>\n",
       "      <td>0</td>\n",
       "      <td>1</td>\n",
       "      <td>7</td>\n",
       "      <td>1</td>\n",
       "      <td>1.0</td>\n",
       "      <td>0.0</td>\n",
       "    </tr>\n",
       "  </tbody>\n",
       "</table>\n",
       "<p>26707 rows × 32 columns</p>\n",
       "</div>"
      ],
      "text/plain": [
       "       h1n1_concern  h1n1_knowledge  behavioral_antiviral_meds  \\\n",
       "0                 2               1                        0.0   \n",
       "1                 4               3                        0.0   \n",
       "2                 2               2                        0.0   \n",
       "3                 2               2                        0.0   \n",
       "4                 3               2                        0.0   \n",
       "...             ...             ...                        ...   \n",
       "26702             3               1                        0.0   \n",
       "26703             2               3                        0.0   \n",
       "26704             3               3                        0.0   \n",
       "26705             2               2                        0.0   \n",
       "26706             1               1                        0.0   \n",
       "\n",
       "       behavioral_avoidance  behavioral_face_mask  behavioral_wash_hands  \\\n",
       "0                       0.0                   0.0                    0.0   \n",
       "1                       1.0                   0.0                    1.0   \n",
       "2                       1.0                   0.0                    0.0   \n",
       "3                       1.0                   0.0                    1.0   \n",
       "4                       1.0                   0.0                    1.0   \n",
       "...                     ...                   ...                    ...   \n",
       "26702                   1.0                   0.0                    0.0   \n",
       "26703                   1.0                   0.0                    1.0   \n",
       "26704                   1.0                   1.0                    1.0   \n",
       "26705                   0.0                   0.0                    0.0   \n",
       "26706                   1.0                   0.0                    0.0   \n",
       "\n",
       "       behavioral_large_gatherings  behavioral_outside_home  \\\n",
       "0                              0.0                      1.0   \n",
       "1                              0.0                      1.0   \n",
       "2                              0.0                      0.0   \n",
       "3                              1.0                      0.0   \n",
       "4                              1.0                      0.0   \n",
       "...                            ...                      ...   \n",
       "26702                          0.0                      1.0   \n",
       "26703                          0.0                      0.0   \n",
       "26704                          1.0                      0.0   \n",
       "26705                          0.0                      0.0   \n",
       "26706                          0.0                      0.0   \n",
       "\n",
       "       behavioral_touch_face  doctor_recc_h1n1  ...  race  sex  \\\n",
       "0                        1.0                 1  ...     3    0   \n",
       "1                        1.0                 1  ...     3    1   \n",
       "2                        0.0                 0  ...     3    1   \n",
       "3                        0.0                 1  ...     3    0   \n",
       "4                        1.0                 1  ...     3    0   \n",
       "...                      ...               ...  ...   ...  ...   \n",
       "26702                    0.0                 1  ...     3    0   \n",
       "26703                    0.0                 2  ...     3    1   \n",
       "26704                    1.0                 1  ...     3    0   \n",
       "26705                    NaN                 1  ...     1    0   \n",
       "26706                    0.0                 1  ...     3    1   \n",
       "\n",
       "       income_poverty  marital_status  rent_or_own  employment_status  \\\n",
       "0                   2               1            0                  1   \n",
       "1                   2               1            1                  0   \n",
       "2                   0               1            0                  0   \n",
       "3                   2               1            1                  1   \n",
       "4                   0               0            0                  0   \n",
       "...               ...             ...          ...                ...   \n",
       "26702               0               1            0                  1   \n",
       "26703               0               1            1                  0   \n",
       "26704               3               1            0                  3   \n",
       "26705               0               0            1                  0   \n",
       "26706               0               0            0                  1   \n",
       "\n",
       "       hhs_geo_region  census_msa  household_adults  household_children  \n",
       "0                   8           2               0.0                 0.0  \n",
       "1                   1           0               0.0                 0.0  \n",
       "2                   9           0               2.0                 0.0  \n",
       "3                   5           1               0.0                 0.0  \n",
       "4                   9           0               1.0                 0.0  \n",
       "...               ...         ...               ...                 ...  \n",
       "26702               9           2               0.0                 0.0  \n",
       "26703               6           1               1.0                 0.0  \n",
       "26704               6           0               0.0                 0.0  \n",
       "26705               5           2               1.0                 0.0  \n",
       "26706               7           1               1.0                 0.0  \n",
       "\n",
       "[26707 rows x 32 columns]"
      ]
     },
     "execution_count": 78,
     "metadata": {},
     "output_type": "execute_result"
    }
   ],
   "source": [
    "enc = preprocessing.OneHotEncoder()\n",
    "enc.fit_transform(df_feature[columns])\n",
    "df_feature"
   ]
  },
  {
   "cell_type": "code",
   "execution_count": null,
   "metadata": {
    "id": "wVJ53F75B5aa"
   },
   "outputs": [],
   "source": [
    "fig,axs = plt.subplots(figsize=(10,5))\n",
    "sns.lineplot(data=df_feature,x='hhs_geo_region',y='income_qua',hue='h1n1_vaccine',ax=axs)"
   ]
  },
  {
   "cell_type": "code",
   "execution_count": 85,
   "metadata": {
    "execution": {
     "iopub.execute_input": "2023-04-01T14:22:03.226972Z",
     "iopub.status.busy": "2023-04-01T14:22:03.226524Z",
     "iopub.status.idle": "2023-04-01T14:22:03.235495Z",
     "shell.execute_reply": "2023-04-01T14:22:03.234373Z",
     "shell.execute_reply.started": "2023-04-01T14:22:03.226934Z"
    },
    "executionInfo": {
     "elapsed": 688,
     "status": "ok",
     "timestamp": 1680520045308,
     "user": {
      "displayName": "Yiming Lin",
      "userId": "14561580860602707809"
     },
     "user_tz": -60
    },
    "id": "z2pFl-xEB5aa",
    "trusted": true
   },
   "outputs": [],
   "source": [
    "# df_feature.drop(columns=['age_group','education','race','sex','income_poverty','marital_status','rent_or_own','employment_status','employment_industry','employment_occupation','health_insurance','hhs_geo_region','census_msa'],axis=1,inplace=True)\n",
    "df_feature.drop(columns=['health_insurance','employment_industry','employment_occupation'],axis=1,inplace=True)"
   ]
  },
  {
   "cell_type": "code",
   "execution_count": null,
   "metadata": {
    "id": "UT1F3tQ2B5aa",
    "trusted": true
   },
   "outputs": [],
   "source": [
    "plt.figure(figsize=(25,15))\n",
    "sns.heatmap(df_feature.corr(),annot=True)\n",
    "plt.show()"
   ]
  },
  {
   "cell_type": "code",
   "execution_count": 86,
   "metadata": {
    "colab": {
     "base_uri": "https://localhost:8080/",
     "height": 487
    },
    "execution": {
     "iopub.execute_input": "2023-04-01T14:22:06.511003Z",
     "iopub.status.busy": "2023-04-01T14:22:06.510569Z",
     "iopub.status.idle": "2023-04-01T14:22:06.557677Z",
     "shell.execute_reply": "2023-04-01T14:22:06.556430Z",
     "shell.execute_reply.started": "2023-04-01T14:22:06.510965Z"
    },
    "executionInfo": {
     "elapsed": 220,
     "status": "ok",
     "timestamp": 1680520048647,
     "user": {
      "displayName": "Yiming Lin",
      "userId": "14561580860602707809"
     },
     "user_tz": -60
    },
    "id": "Kq2MG_QxB5aa",
    "outputId": "94afdb6a-493b-419c-f6c8-febc6a5d844d",
    "trusted": true
   },
   "outputs": [
    {
     "data": {
      "text/html": [
       "<div>\n",
       "<style scoped>\n",
       "    .dataframe tbody tr th:only-of-type {\n",
       "        vertical-align: middle;\n",
       "    }\n",
       "\n",
       "    .dataframe tbody tr th {\n",
       "        vertical-align: top;\n",
       "    }\n",
       "\n",
       "    .dataframe thead th {\n",
       "        text-align: right;\n",
       "    }\n",
       "</style>\n",
       "<table border=\"1\" class=\"dataframe\">\n",
       "  <thead>\n",
       "    <tr style=\"text-align: right;\">\n",
       "      <th></th>\n",
       "      <th>h1n1_concern</th>\n",
       "      <th>h1n1_knowledge</th>\n",
       "      <th>behavioral_antiviral_meds</th>\n",
       "      <th>behavioral_avoidance</th>\n",
       "      <th>behavioral_face_mask</th>\n",
       "      <th>behavioral_wash_hands</th>\n",
       "      <th>behavioral_large_gatherings</th>\n",
       "      <th>behavioral_outside_home</th>\n",
       "      <th>behavioral_touch_face</th>\n",
       "      <th>doctor_recc_h1n1</th>\n",
       "      <th>...</th>\n",
       "      <th>race</th>\n",
       "      <th>sex</th>\n",
       "      <th>income_poverty</th>\n",
       "      <th>marital_status</th>\n",
       "      <th>rent_or_own</th>\n",
       "      <th>employment_status</th>\n",
       "      <th>hhs_geo_region</th>\n",
       "      <th>census_msa</th>\n",
       "      <th>household_adults</th>\n",
       "      <th>household_children</th>\n",
       "    </tr>\n",
       "  </thead>\n",
       "  <tbody>\n",
       "    <tr>\n",
       "      <th>42</th>\n",
       "      <td>1</td>\n",
       "      <td>1</td>\n",
       "      <td>0.0</td>\n",
       "      <td>NaN</td>\n",
       "      <td>0.0</td>\n",
       "      <td>0.0</td>\n",
       "      <td>0.0</td>\n",
       "      <td>0.0</td>\n",
       "      <td>0.0</td>\n",
       "      <td>1</td>\n",
       "      <td>...</td>\n",
       "      <td>4</td>\n",
       "      <td>2</td>\n",
       "      <td>1</td>\n",
       "      <td>1</td>\n",
       "      <td>1</td>\n",
       "      <td>1</td>\n",
       "      <td>9</td>\n",
       "      <td>3</td>\n",
       "      <td>1.0</td>\n",
       "      <td>0.0</td>\n",
       "    </tr>\n",
       "    <tr>\n",
       "      <th>64</th>\n",
       "      <td>2</td>\n",
       "      <td>1</td>\n",
       "      <td>0.0</td>\n",
       "      <td>0.0</td>\n",
       "      <td>0.0</td>\n",
       "      <td>NaN</td>\n",
       "      <td>0.0</td>\n",
       "      <td>0.0</td>\n",
       "      <td>0.0</td>\n",
       "      <td>1</td>\n",
       "      <td>...</td>\n",
       "      <td>3</td>\n",
       "      <td>1</td>\n",
       "      <td>0</td>\n",
       "      <td>0</td>\n",
       "      <td>0</td>\n",
       "      <td>0</td>\n",
       "      <td>5</td>\n",
       "      <td>3</td>\n",
       "      <td>1.0</td>\n",
       "      <td>2.0</td>\n",
       "    </tr>\n",
       "    <tr>\n",
       "      <th>76</th>\n",
       "      <td>3</td>\n",
       "      <td>2</td>\n",
       "      <td>0.0</td>\n",
       "      <td>NaN</td>\n",
       "      <td>0.0</td>\n",
       "      <td>0.0</td>\n",
       "      <td>0.0</td>\n",
       "      <td>0.0</td>\n",
       "      <td>0.0</td>\n",
       "      <td>0</td>\n",
       "      <td>...</td>\n",
       "      <td>4</td>\n",
       "      <td>2</td>\n",
       "      <td>2</td>\n",
       "      <td>2</td>\n",
       "      <td>1</td>\n",
       "      <td>1</td>\n",
       "      <td>4</td>\n",
       "      <td>2</td>\n",
       "      <td>1.0</td>\n",
       "      <td>0.0</td>\n",
       "    </tr>\n",
       "    <tr>\n",
       "      <th>96</th>\n",
       "      <td>0</td>\n",
       "      <td>2</td>\n",
       "      <td>0.0</td>\n",
       "      <td>1.0</td>\n",
       "      <td>0.0</td>\n",
       "      <td>1.0</td>\n",
       "      <td>0.0</td>\n",
       "      <td>NaN</td>\n",
       "      <td>0.0</td>\n",
       "      <td>2</td>\n",
       "      <td>...</td>\n",
       "      <td>4</td>\n",
       "      <td>1</td>\n",
       "      <td>1</td>\n",
       "      <td>2</td>\n",
       "      <td>1</td>\n",
       "      <td>2</td>\n",
       "      <td>7</td>\n",
       "      <td>3</td>\n",
       "      <td>0.0</td>\n",
       "      <td>0.0</td>\n",
       "    </tr>\n",
       "    <tr>\n",
       "      <th>105</th>\n",
       "      <td>2</td>\n",
       "      <td>2</td>\n",
       "      <td>0.0</td>\n",
       "      <td>0.0</td>\n",
       "      <td>0.0</td>\n",
       "      <td>1.0</td>\n",
       "      <td>0.0</td>\n",
       "      <td>0.0</td>\n",
       "      <td>1.0</td>\n",
       "      <td>1</td>\n",
       "      <td>...</td>\n",
       "      <td>4</td>\n",
       "      <td>1</td>\n",
       "      <td>0</td>\n",
       "      <td>0</td>\n",
       "      <td>0</td>\n",
       "      <td>0</td>\n",
       "      <td>9</td>\n",
       "      <td>1</td>\n",
       "      <td>1.0</td>\n",
       "      <td>1.0</td>\n",
       "    </tr>\n",
       "    <tr>\n",
       "      <th>...</th>\n",
       "      <td>...</td>\n",
       "      <td>...</td>\n",
       "      <td>...</td>\n",
       "      <td>...</td>\n",
       "      <td>...</td>\n",
       "      <td>...</td>\n",
       "      <td>...</td>\n",
       "      <td>...</td>\n",
       "      <td>...</td>\n",
       "      <td>...</td>\n",
       "      <td>...</td>\n",
       "      <td>...</td>\n",
       "      <td>...</td>\n",
       "      <td>...</td>\n",
       "      <td>...</td>\n",
       "      <td>...</td>\n",
       "      <td>...</td>\n",
       "      <td>...</td>\n",
       "      <td>...</td>\n",
       "      <td>...</td>\n",
       "      <td>...</td>\n",
       "    </tr>\n",
       "    <tr>\n",
       "      <th>26613</th>\n",
       "      <td>1</td>\n",
       "      <td>3</td>\n",
       "      <td>0.0</td>\n",
       "      <td>NaN</td>\n",
       "      <td>0.0</td>\n",
       "      <td>1.0</td>\n",
       "      <td>0.0</td>\n",
       "      <td>0.0</td>\n",
       "      <td>0.0</td>\n",
       "      <td>1</td>\n",
       "      <td>...</td>\n",
       "      <td>1</td>\n",
       "      <td>2</td>\n",
       "      <td>3</td>\n",
       "      <td>2</td>\n",
       "      <td>2</td>\n",
       "      <td>2</td>\n",
       "      <td>4</td>\n",
       "      <td>2</td>\n",
       "      <td>0.0</td>\n",
       "      <td>0.0</td>\n",
       "    </tr>\n",
       "    <tr>\n",
       "      <th>26652</th>\n",
       "      <td>2</td>\n",
       "      <td>2</td>\n",
       "      <td>0.0</td>\n",
       "      <td>1.0</td>\n",
       "      <td>NaN</td>\n",
       "      <td>1.0</td>\n",
       "      <td>1.0</td>\n",
       "      <td>1.0</td>\n",
       "      <td>NaN</td>\n",
       "      <td>1</td>\n",
       "      <td>...</td>\n",
       "      <td>3</td>\n",
       "      <td>2</td>\n",
       "      <td>1</td>\n",
       "      <td>1</td>\n",
       "      <td>1</td>\n",
       "      <td>2</td>\n",
       "      <td>2</td>\n",
       "      <td>1</td>\n",
       "      <td>1.0</td>\n",
       "      <td>1.0</td>\n",
       "    </tr>\n",
       "    <tr>\n",
       "      <th>26672</th>\n",
       "      <td>3</td>\n",
       "      <td>2</td>\n",
       "      <td>0.0</td>\n",
       "      <td>1.0</td>\n",
       "      <td>0.0</td>\n",
       "      <td>1.0</td>\n",
       "      <td>1.0</td>\n",
       "      <td>1.0</td>\n",
       "      <td>1.0</td>\n",
       "      <td>1</td>\n",
       "      <td>...</td>\n",
       "      <td>1</td>\n",
       "      <td>1</td>\n",
       "      <td>0</td>\n",
       "      <td>0</td>\n",
       "      <td>0</td>\n",
       "      <td>0</td>\n",
       "      <td>4</td>\n",
       "      <td>2</td>\n",
       "      <td>NaN</td>\n",
       "      <td>NaN</td>\n",
       "    </tr>\n",
       "    <tr>\n",
       "      <th>26687</th>\n",
       "      <td>4</td>\n",
       "      <td>3</td>\n",
       "      <td>0.0</td>\n",
       "      <td>NaN</td>\n",
       "      <td>1.0</td>\n",
       "      <td>1.0</td>\n",
       "      <td>0.0</td>\n",
       "      <td>0.0</td>\n",
       "      <td>1.0</td>\n",
       "      <td>1</td>\n",
       "      <td>...</td>\n",
       "      <td>4</td>\n",
       "      <td>1</td>\n",
       "      <td>1</td>\n",
       "      <td>2</td>\n",
       "      <td>1</td>\n",
       "      <td>2</td>\n",
       "      <td>7</td>\n",
       "      <td>1</td>\n",
       "      <td>0.0</td>\n",
       "      <td>0.0</td>\n",
       "    </tr>\n",
       "    <tr>\n",
       "      <th>26705</th>\n",
       "      <td>2</td>\n",
       "      <td>2</td>\n",
       "      <td>0.0</td>\n",
       "      <td>0.0</td>\n",
       "      <td>0.0</td>\n",
       "      <td>0.0</td>\n",
       "      <td>0.0</td>\n",
       "      <td>0.0</td>\n",
       "      <td>NaN</td>\n",
       "      <td>1</td>\n",
       "      <td>...</td>\n",
       "      <td>2</td>\n",
       "      <td>1</td>\n",
       "      <td>1</td>\n",
       "      <td>1</td>\n",
       "      <td>2</td>\n",
       "      <td>1</td>\n",
       "      <td>6</td>\n",
       "      <td>3</td>\n",
       "      <td>1.0</td>\n",
       "      <td>0.0</td>\n",
       "    </tr>\n",
       "  </tbody>\n",
       "</table>\n",
       "<p>1374 rows × 32 columns</p>\n",
       "</div>"
      ],
      "text/plain": [
       "       h1n1_concern  h1n1_knowledge  behavioral_antiviral_meds  \\\n",
       "42                1               1                        0.0   \n",
       "64                2               1                        0.0   \n",
       "76                3               2                        0.0   \n",
       "96                0               2                        0.0   \n",
       "105               2               2                        0.0   \n",
       "...             ...             ...                        ...   \n",
       "26613             1               3                        0.0   \n",
       "26652             2               2                        0.0   \n",
       "26672             3               2                        0.0   \n",
       "26687             4               3                        0.0   \n",
       "26705             2               2                        0.0   \n",
       "\n",
       "       behavioral_avoidance  behavioral_face_mask  behavioral_wash_hands  \\\n",
       "42                      NaN                   0.0                    0.0   \n",
       "64                      0.0                   0.0                    NaN   \n",
       "76                      NaN                   0.0                    0.0   \n",
       "96                      1.0                   0.0                    1.0   \n",
       "105                     0.0                   0.0                    1.0   \n",
       "...                     ...                   ...                    ...   \n",
       "26613                   NaN                   0.0                    1.0   \n",
       "26652                   1.0                   NaN                    1.0   \n",
       "26672                   1.0                   0.0                    1.0   \n",
       "26687                   NaN                   1.0                    1.0   \n",
       "26705                   0.0                   0.0                    0.0   \n",
       "\n",
       "       behavioral_large_gatherings  behavioral_outside_home  \\\n",
       "42                             0.0                      0.0   \n",
       "64                             0.0                      0.0   \n",
       "76                             0.0                      0.0   \n",
       "96                             0.0                      NaN   \n",
       "105                            0.0                      0.0   \n",
       "...                            ...                      ...   \n",
       "26613                          0.0                      0.0   \n",
       "26652                          1.0                      1.0   \n",
       "26672                          1.0                      1.0   \n",
       "26687                          0.0                      0.0   \n",
       "26705                          0.0                      0.0   \n",
       "\n",
       "       behavioral_touch_face  doctor_recc_h1n1  ...  race  sex  \\\n",
       "42                       0.0                 1  ...     4    2   \n",
       "64                       0.0                 1  ...     3    1   \n",
       "76                       0.0                 0  ...     4    2   \n",
       "96                       0.0                 2  ...     4    1   \n",
       "105                      1.0                 1  ...     4    1   \n",
       "...                      ...               ...  ...   ...  ...   \n",
       "26613                    0.0                 1  ...     1    2   \n",
       "26652                    NaN                 1  ...     3    2   \n",
       "26672                    1.0                 1  ...     1    1   \n",
       "26687                    1.0                 1  ...     4    1   \n",
       "26705                    NaN                 1  ...     2    1   \n",
       "\n",
       "       income_poverty  marital_status  rent_or_own  employment_status  \\\n",
       "42                  1               1            1                  1   \n",
       "64                  0               0            0                  0   \n",
       "76                  2               2            1                  1   \n",
       "96                  1               2            1                  2   \n",
       "105                 0               0            0                  0   \n",
       "...               ...             ...          ...                ...   \n",
       "26613               3               2            2                  2   \n",
       "26652               1               1            1                  2   \n",
       "26672               0               0            0                  0   \n",
       "26687               1               2            1                  2   \n",
       "26705               1               1            2                  1   \n",
       "\n",
       "       hhs_geo_region  census_msa  household_adults  household_children  \n",
       "42                  9           3               1.0                 0.0  \n",
       "64                  5           3               1.0                 2.0  \n",
       "76                  4           2               1.0                 0.0  \n",
       "96                  7           3               0.0                 0.0  \n",
       "105                 9           1               1.0                 1.0  \n",
       "...               ...         ...               ...                 ...  \n",
       "26613               4           2               0.0                 0.0  \n",
       "26652               2           1               1.0                 1.0  \n",
       "26672               4           2               NaN                 NaN  \n",
       "26687               7           1               0.0                 0.0  \n",
       "26705               6           3               1.0                 0.0  \n",
       "\n",
       "[1374 rows x 32 columns]"
      ]
     },
     "execution_count": 86,
     "metadata": {},
     "output_type": "execute_result"
    }
   ],
   "source": [
    "df_feature = df_feature.dropna(thresh=4)\n",
    "df_feature[df_feature.isna().any(axis=1)]"
   ]
  },
  {
   "cell_type": "code",
   "execution_count": 87,
   "metadata": {
    "execution": {
     "iopub.execute_input": "2023-04-01T14:22:10.271242Z",
     "iopub.status.busy": "2023-04-01T14:22:10.270823Z",
     "iopub.status.idle": "2023-04-01T14:22:10.286109Z",
     "shell.execute_reply": "2023-04-01T14:22:10.284781Z",
     "shell.execute_reply.started": "2023-04-01T14:22:10.271204Z"
    },
    "executionInfo": {
     "elapsed": 3,
     "status": "ok",
     "timestamp": 1680520051894,
     "user": {
      "displayName": "Yiming Lin",
      "userId": "14561580860602707809"
     },
     "user_tz": -60
    },
    "id": "4X9R3DKWB5ab",
    "trusted": true
   },
   "outputs": [],
   "source": [
    "train_data = df_feature.dropna()"
   ]
  },
  {
   "cell_type": "markdown",
   "metadata": {
    "id": "vF_aI2FFypL0"
   },
   "source": [
    "## Correlation"
   ]
  },
  {
   "cell_type": "code",
   "execution_count": 21,
   "metadata": {
    "id": "YPu9iYGFR9Ms",
    "outputId": "fc9ecb84-8688-48c4-d298-084d036612fa",
    "trusted": true
   },
   "outputs": [
    {
     "name": "stdout",
     "output_type": "stream",
     "text": [
      "['h1n1_concern', 'h1n1_knowledge', 'behavioral_antiviral_meds', 'behavioral_avoidance', 'behavioral_face_mask', 'behavioral_wash_hands', 'behavioral_large_gatherings', 'behavioral_outside_home', 'behavioral_touch_face', 'doctor_recc_h1n1', 'doctor_recc_seasonal', 'chronic_med_condition', 'child_under_6_months', 'health_worker', 'opinion_h1n1_vacc_effective', 'opinion_h1n1_risk', 'opinion_h1n1_sick_from_vacc', 'opinion_seas_vacc_effective', 'opinion_seas_risk', 'opinion_seas_sick_from_vacc', 'age_group', 'education', 'race', 'sex', 'income_poverty', 'marital_status', 'rent_or_own', 'employment_status', 'hhs_geo_region', 'census_msa', 'household_adults', 'household_children']\n"
     ]
    },
    {
     "data": {
      "image/png": "[encoded data removed]",
      "text/plain": [
       "<Figure size 1500x500 with 1 Axes>"
      ]
     },
     "metadata": {},
     "output_type": "display_data"
    }
   ],
   "source": [
    "from scipy import stats\n",
    "# features = [\"h1n1_concern\",\"h1n1_knowledge\",\"behavioral_antiviral_meds\",\"behavioral_avoidance\"]\n",
    "# features = df_feature.\n",
    "pNUm = []\n",
    "pX = []\n",
    "i=0\n",
    "for column in train_data.drop(columns=['h1n1_vaccine','seasonal_vaccine'],axis=1,inplace=False).columns.values:\n",
    "    pearson_coef,p_value = stats.pearsonr(train_data[column],train_data['h1n1_vaccine'])\n",
    "    pNUm.append(pearson_coef)\n",
    "    pX.append(column)\n",
    "    # print(column,\" : The Pearson Correlation Coefficient is\", pearson_coef, \" with a P-value of P =\", p_value)\n",
    "print(pX)\n",
    "plt.figure(figsize=[15,5])\n",
    "plt.plot(range(1,33,1),pNUm)\n",
    "plt.xticks(range(1,33,1))\n",
    "plt.show()"
   ]
  },
  {
   "cell_type": "code",
   "execution_count": 22,
   "metadata": {
    "id": "5BT2m113ypL2",
    "outputId": "6d2df4ab-82e1-470a-84a2-229c21fcadd2"
   },
   "outputs": [
    {
     "data": {
      "text/plain": [
       "h1n1_concern                   0.131833\n",
       "h1n1_knowledge                 0.120890\n",
       "behavioral_antiviral_meds      0.037908\n",
       "behavioral_avoidance           0.048984\n",
       "behavioral_face_mask           0.071011\n",
       "behavioral_wash_hands          0.074934\n",
       "behavioral_large_gatherings    0.017475\n",
       "behavioral_outside_home        0.018830\n",
       "behavioral_touch_face          0.071834\n",
       "doctor_recc_h1n1               0.393544\n",
       "doctor_recc_seasonal           0.208674\n",
       "chronic_med_condition          0.099398\n",
       "child_under_6_months           0.068338\n",
       "health_worker                  0.177413\n",
       "opinion_h1n1_vacc_effective    0.269974\n",
       "opinion_h1n1_risk              0.340110\n",
       "opinion_h1n1_sick_from_vacc    0.080956\n",
       "opinion_seas_vacc_effective    0.183534\n",
       "opinion_seas_risk              0.268564\n",
       "opinion_seas_sick_from_vacc    0.007941\n",
       "age_group                      0.045094\n",
       "education                      0.039936\n",
       "race                           0.047079\n",
       "sex                           -0.023736\n",
       "income_poverty                 0.025397\n",
       "marital_status                -0.045967\n",
       "rent_or_own                   -0.026397\n",
       "employment_status             -0.011673\n",
       "hhs_geo_region                -0.001228\n",
       "census_msa                     0.000583\n",
       "household_adults               0.005096\n",
       "household_children            -0.005949\n",
       "h1n1_vaccine                   1.000000\n",
       "seasonal_vaccine               0.382575\n",
       "Name: h1n1_vaccine, dtype: float64"
      ]
     },
     "execution_count": 22,
     "metadata": {},
     "output_type": "execute_result"
    }
   ],
   "source": [
    "train_data.corr()['h1n1_vaccine']"
   ]
  },
  {
   "cell_type": "markdown",
   "metadata": {
    "id": "0j0YQyM1ypL3"
   },
   "source": [
    "pearson coefficient high  -> doctor_recc_h1n1   opinion_h1n1_risk     opinion_seas_risk"
   ]
  },
  {
   "cell_type": "markdown",
   "metadata": {
    "id": "vHW8cCa5ypL3"
   },
   "source": [
    "## Imputation"
   ]
  },
  {
   "cell_type": "code",
   "execution_count": 88,
   "metadata": {
    "colab": {
     "base_uri": "https://localhost:8080/",
     "height": 74
    },
    "execution": {
     "iopub.execute_input": "2023-04-01T14:22:22.312173Z",
     "iopub.status.busy": "2023-04-01T14:22:22.311725Z",
     "iopub.status.idle": "2023-04-01T14:22:25.270998Z",
     "shell.execute_reply": "2023-04-01T14:22:25.269626Z",
     "shell.execute_reply.started": "2023-04-01T14:22:22.312132Z"
    },
    "executionInfo": {
     "elapsed": 4474,
     "status": "ok",
     "timestamp": 1680520090983,
     "user": {
      "displayName": "Yiming Lin",
      "userId": "14561580860602707809"
     },
     "user_tz": -60
    },
    "id": "FNYQtIK2B5ab",
    "outputId": "f3c37990-e965-456b-be23-86f7acdd4ea5",
    "trusted": true
   },
   "outputs": [
    {
     "data": {
      "text/html": [
       "<style>#sk-container-id-4 {color: black;background-color: white;}#sk-container-id-4 pre{padding: 0;}#sk-container-id-4 div.sk-toggleable {background-color: white;}#sk-container-id-4 label.sk-toggleable__label {cursor: pointer;display: block;width: 100%;margin-bottom: 0;padding: 0.3em;box-sizing: border-box;text-align: center;}#sk-container-id-4 label.sk-toggleable__label-arrow:before {content: \"▸\";float: left;margin-right: 0.25em;color: #696969;}#sk-container-id-4 label.sk-toggleable__label-arrow:hover:before {color: black;}#sk-container-id-4 div.sk-estimator:hover label.sk-toggleable__label-arrow:before {color: black;}#sk-container-id-4 div.sk-toggleable__content {max-height: 0;max-width: 0;overflow: hidden;text-align: left;background-color: #f0f8ff;}#sk-container-id-4 div.sk-toggleable__content pre {margin: 0.2em;color: black;border-radius: 0.25em;background-color: #f0f8ff;}#sk-container-id-4 input.sk-toggleable__control:checked~div.sk-toggleable__content {max-height: 200px;max-width: 100%;overflow: auto;}#sk-container-id-4 input.sk-toggleable__control:checked~label.sk-toggleable__label-arrow:before {content: \"▾\";}#sk-container-id-4 div.sk-estimator input.sk-toggleable__control:checked~label.sk-toggleable__label {background-color: #d4ebff;}#sk-container-id-4 div.sk-label input.sk-toggleable__control:checked~label.sk-toggleable__label {background-color: #d4ebff;}#sk-container-id-4 input.sk-hidden--visually {border: 0;clip: rect(1px 1px 1px 1px);clip: rect(1px, 1px, 1px, 1px);height: 1px;margin: -1px;overflow: hidden;padding: 0;position: absolute;width: 1px;}#sk-container-id-4 div.sk-estimator {font-family: monospace;background-color: #f0f8ff;border: 1px dotted black;border-radius: 0.25em;box-sizing: border-box;margin-bottom: 0.5em;}#sk-container-id-4 div.sk-estimator:hover {background-color: #d4ebff;}#sk-container-id-4 div.sk-parallel-item::after {content: \"\";width: 100%;border-bottom: 1px solid gray;flex-grow: 1;}#sk-container-id-4 div.sk-label:hover label.sk-toggleable__label {background-color: #d4ebff;}#sk-container-id-4 div.sk-serial::before {content: \"\";position: absolute;border-left: 1px solid gray;box-sizing: border-box;top: 0;bottom: 0;left: 50%;z-index: 0;}#sk-container-id-4 div.sk-serial {display: flex;flex-direction: column;align-items: center;background-color: white;padding-right: 0.2em;padding-left: 0.2em;position: relative;}#sk-container-id-4 div.sk-item {position: relative;z-index: 1;}#sk-container-id-4 div.sk-parallel {display: flex;align-items: stretch;justify-content: center;background-color: white;position: relative;}#sk-container-id-4 div.sk-item::before, #sk-container-id-4 div.sk-parallel-item::before {content: \"\";position: absolute;border-left: 1px solid gray;box-sizing: border-box;top: 0;bottom: 0;left: 50%;z-index: -1;}#sk-container-id-4 div.sk-parallel-item {display: flex;flex-direction: column;z-index: 1;position: relative;background-color: white;}#sk-container-id-4 div.sk-parallel-item:first-child::after {align-self: flex-end;width: 50%;}#sk-container-id-4 div.sk-parallel-item:last-child::after {align-self: flex-start;width: 50%;}#sk-container-id-4 div.sk-parallel-item:only-child::after {width: 0;}#sk-container-id-4 div.sk-dashed-wrapped {border: 1px dashed gray;margin: 0 0.4em 0.5em 0.4em;box-sizing: border-box;padding-bottom: 0.4em;background-color: white;}#sk-container-id-4 div.sk-label label {font-family: monospace;font-weight: bold;display: inline-block;line-height: 1.2em;}#sk-container-id-4 div.sk-label-container {text-align: center;}#sk-container-id-4 div.sk-container {/* jupyter's `normalize.less` sets `[hidden] { display: none; }` but bootstrap.min.css set `[hidden] { display: none !important; }` so we also need the `!important` here to be able to override the default hidden behavior on the sphinx rendered scikit-learn.org. See: https://github.com/scikit-learn/scikit-learn/issues/21755 */display: inline-block !important;position: relative;}#sk-container-id-4 div.sk-text-repr-fallback {display: none;}</style><div id=\"sk-container-id-4\" class=\"sk-top-container\"><div class=\"sk-text-repr-fallback\"><pre>IterativeImputer(initial_strategy=&#x27;most_frequent&#x27;, random_state=0)</pre><b>In a Jupyter environment, please rerun this cell to show the HTML representation or trust the notebook. <br />On GitHub, the HTML representation is unable to render, please try loading this page with nbviewer.org.</b></div><div class=\"sk-container\" hidden><div class=\"sk-item\"><div class=\"sk-estimator sk-toggleable\"><input class=\"sk-toggleable__control sk-hidden--visually\" id=\"sk-estimator-id-4\" type=\"checkbox\" checked><label for=\"sk-estimator-id-4\" class=\"sk-toggleable__label sk-toggleable__label-arrow\">IterativeImputer</label><div class=\"sk-toggleable__content\"><pre>IterativeImputer(initial_strategy=&#x27;most_frequent&#x27;, random_state=0)</pre></div></div></div></div></div>"
      ],
      "text/plain": [
       "IterativeImputer(initial_strategy='most_frequent', random_state=0)"
      ]
     },
     "execution_count": 88,
     "metadata": {},
     "output_type": "execute_result"
    }
   ],
   "source": [
    "imp = IterativeImputer(random_state=0,initial_strategy=\"most_frequent\")\n",
    "imp.fit(train_data)"
   ]
  },
  {
   "cell_type": "code",
   "execution_count": 89,
   "metadata": {
    "execution": {
     "iopub.execute_input": "2023-04-01T14:22:25.278429Z",
     "iopub.status.busy": "2023-04-01T14:22:25.275695Z",
     "iopub.status.idle": "2023-04-01T14:22:25.423088Z",
     "shell.execute_reply": "2023-04-01T14:22:25.421295Z",
     "shell.execute_reply.started": "2023-04-01T14:22:25.278064Z"
    },
    "executionInfo": {
     "elapsed": 249,
     "status": "ok",
     "timestamp": 1680520093405,
     "user": {
      "displayName": "Yiming Lin",
      "userId": "14561580860602707809"
     },
     "user_tz": -60
    },
    "id": "ZXzVcpG0B5ab",
    "trusted": true
   },
   "outputs": [],
   "source": [
    "data = imp.transform(df_feature).round().astype(int)"
   ]
  },
  {
   "cell_type": "markdown",
   "metadata": {
    "id": "baYrw_frB5ac"
   },
   "source": [
    "## Feature Selection"
   ]
  },
  {
   "cell_type": "code",
   "execution_count": null,
   "metadata": {
    "execution": {
     "iopub.execute_input": "2023-04-01T14:22:37.456748Z",
     "iopub.status.busy": "2023-04-01T14:22:37.456348Z",
     "iopub.status.idle": "2023-04-01T14:22:37.465901Z",
     "shell.execute_reply": "2023-04-01T14:22:37.464166Z",
     "shell.execute_reply.started": "2023-04-01T14:22:37.456714Z"
    },
    "id": "EzE1qtZuDNSk",
    "trusted": true
   },
   "outputs": [],
   "source": [
    "X = np.delete(data,[32,33],axis=1)\n",
    "# y = df_label['h1n1_vaccine']\n",
    "y = df_vac"
   ]
  },
  {
   "cell_type": "markdown",
   "metadata": {
    "id": "v1BqF2AwypL5"
   },
   "source": [
    "### GradientBoost"
   ]
  },
  {
   "cell_type": "code",
   "execution_count": null,
   "metadata": {
    "execution": {
     "iopub.execute_input": "2023-04-01T14:25:05.689606Z",
     "iopub.status.busy": "2023-04-01T14:25:05.689198Z"
    },
    "id": "1paji2THC-CG",
    "trusted": true
   },
   "outputs": [],
   "source": [
    "RFC_ = RFC(n_estimators=100,random_state=0).fit(X,y)\n",
    "score = []\n",
    "for i in range(5,34,1):\n",
    "  x_wrapper = RFE(RFC_,n_features_to_select=i,step=1).fit_transform(X,y)\n",
    "  once = cross_val_score(GradientBoostingClassifier(),x_wrapper,y,cv=10,scoring='roc_auc').mean()\n",
    "  score.append(once)\n",
    "plt.figure(figsize=[20,5])\n",
    "plt.plot(range(5,34,1),score)\n",
    "plt.xticks(range(5,34,1))\n",
    "plt.show()"
   ]
  },
  {
   "cell_type": "markdown",
   "metadata": {
    "id": "mp2DvCVEypL6"
   },
   "source": [
    "### CatBoost"
   ]
  },
  {
   "cell_type": "code",
   "execution_count": null,
   "metadata": {
    "colab": {
     "base_uri": "https://localhost:8080/",
     "height": 1000
    },
    "execution": {
     "iopub.execute_input": "2023-04-01T14:22:54.551169Z",
     "iopub.status.busy": "2023-04-01T14:22:54.550730Z",
     "iopub.status.idle": "2023-04-01T14:24:58.714280Z",
     "shell.execute_reply": "2023-04-01T14:24:58.712535Z",
     "shell.execute_reply.started": "2023-04-01T14:22:54.551132Z"
    },
    "executionInfo": {
     "elapsed": 784098,
     "status": "ok",
     "timestamp": 1680361301725,
     "user": {
      "displayName": "Yiming Lin",
      "userId": "14561580860602707809"
     },
     "user_tz": -60
    },
    "id": "WFnzlnD4R9Mv",
    "outputId": "ee4ed2fc-2689-4b30-f39e-df26f2cb410f",
    "trusted": true
   },
   "outputs": [],
   "source": [
    "RFC_ = RFC(n_estimators=100,random_state=0).fit(X,y)\n",
    "score = []\n",
    "for i in range(5,32,1):\n",
    "  x_wrapper = RFE(RFC_,n_features_to_select=i,step=3).fit_transform(X,y)\n",
    "  once = cross_val_score(CatBoostClassifier(),x_wrapper,y,cv=10,scoring='roc_auc').mean()\n",
    "  score.append(once)\n",
    "plt.figure(figsize=[20,5])\n",
    "plt.plot(range(5,32,1),score)\n",
    "plt.xticks(range(5,32,1))\n",
    "plt.show()"
   ]
  },
  {
   "cell_type": "code",
   "execution_count": null,
   "metadata": {
    "colab": {
     "base_uri": "https://localhost:8080/"
    },
    "executionInfo": {
     "elapsed": 245381,
     "status": "ok",
     "timestamp": 1680364792974,
     "user": {
      "displayName": "Yiming Lin",
      "userId": "14561580860602707809"
     },
     "user_tz": -60
    },
    "id": "oeGdF3oseXGB",
    "outputId": "5c57d32f-79f8-46c0-b333-63685495aeb5"
   },
   "outputs": [],
   "source": [
    "selector = RFE(CatBoostClassifier(),verbose=2).fit(X,y)"
   ]
  },
  {
   "cell_type": "code",
   "execution_count": null,
   "metadata": {
    "colab": {
     "base_uri": "https://localhost:8080/"
    },
    "executionInfo": {
     "elapsed": 257,
     "status": "ok",
     "timestamp": 1680364820336,
     "user": {
      "displayName": "Yiming Lin",
      "userId": "14561580860602707809"
     },
     "user_tz": -60
    },
    "id": "jL0z9bzSgLEh",
    "outputId": "bf2ec513-6edc-41b4-b383-d3377adcec3e"
   },
   "outputs": [
    {
     "data": {
      "text/plain": [
       "array([ 1,  1, 17, 15, 14, 16,  9, 12, 13,  1,  5, 10, 11,  4,  1,  1,  1,\n",
       "        1,  1,  1,  1,  1,  1,  7,  1,  8,  6,  1,  1,  2,  1,  3])"
      ]
     },
     "execution_count": 19,
     "metadata": {},
     "output_type": "execute_result"
    }
   ],
   "source": [
    "selector.ranking_"
   ]
  },
  {
   "cell_type": "markdown",
   "metadata": {
    "id": "D2Gv78L-ypL8"
   },
   "source": [
    "h1n1_vaccine: \n",
    "h1n1_concern 1\th1n1_knowledge 1 doctor_recc_h1n1 1 opinion_h1n1_vacc_effective 1\topinion_h1n1_risk 1\topinion_h1n1_sick_from_vacc 1\topinion_seas_vacc_effective 1\topinion_seas_risk 1\topinion_seas_sick_from_vacc 1 age_group 1\teducation 1\trace 1 income_poverty 1 employment_status 1\thhs_geo_region 1 household_adults 1\tcensus_msa 2 household_children\t3 health_worker 4 doctor_recc_seasonal 5 rent_or_own 6 sex 7 marital_status 8 behavioral_large_gatherings 9 chronic_med_condition 10\tchild_under_6_months 11 behavioral_outside_home 12\tbehavioral_touch_face 13 behavioral_face_mask 14 behavioral_avoidance 15 behavioral_wash_hands  16\tbehavioral_antiviral_meds 17\t\t\t \t\t\t\t\t\t\t\t\t\t\t\t\t\n"
   ]
  },
  {
   "cell_type": "code",
   "execution_count": null,
   "metadata": {
    "id": "wOqr9IIpypL9"
   },
   "outputs": [],
   "source": [
    "pd.set_option('display.max_columns',None)"
   ]
  },
  {
   "cell_type": "code",
   "execution_count": 92,
   "metadata": {
    "id": "5BR50cNlypL9",
    "outputId": "4cbb7ece-92d2-4193-c486-3ce020d4874f"
   },
   "outputs": [
    {
     "data": {
      "text/html": [
       "<div>\n",
       "<style scoped>\n",
       "    .dataframe tbody tr th:only-of-type {\n",
       "        vertical-align: middle;\n",
       "    }\n",
       "\n",
       "    .dataframe tbody tr th {\n",
       "        vertical-align: top;\n",
       "    }\n",
       "\n",
       "    .dataframe thead th {\n",
       "        text-align: right;\n",
       "    }\n",
       "</style>\n",
       "<table border=\"1\" class=\"dataframe\">\n",
       "  <thead>\n",
       "    <tr style=\"text-align: right;\">\n",
       "      <th></th>\n",
       "      <th>h1n1_concern</th>\n",
       "      <th>h1n1_knowledge</th>\n",
       "      <th>behavioral_antiviral_meds</th>\n",
       "      <th>behavioral_avoidance</th>\n",
       "      <th>behavioral_face_mask</th>\n",
       "      <th>behavioral_wash_hands</th>\n",
       "      <th>behavioral_large_gatherings</th>\n",
       "      <th>behavioral_outside_home</th>\n",
       "      <th>behavioral_touch_face</th>\n",
       "      <th>doctor_recc_h1n1</th>\n",
       "      <th>...</th>\n",
       "      <th>race</th>\n",
       "      <th>sex</th>\n",
       "      <th>income_poverty</th>\n",
       "      <th>marital_status</th>\n",
       "      <th>rent_or_own</th>\n",
       "      <th>employment_status</th>\n",
       "      <th>hhs_geo_region</th>\n",
       "      <th>census_msa</th>\n",
       "      <th>household_adults</th>\n",
       "      <th>household_children</th>\n",
       "    </tr>\n",
       "  </thead>\n",
       "  <tbody>\n",
       "    <tr>\n",
       "      <th>0</th>\n",
       "      <td>2</td>\n",
       "      <td>1</td>\n",
       "      <td>0.0</td>\n",
       "      <td>0.0</td>\n",
       "      <td>0.0</td>\n",
       "      <td>0.0</td>\n",
       "      <td>0.0</td>\n",
       "      <td>1.0</td>\n",
       "      <td>1.0</td>\n",
       "      <td>1</td>\n",
       "      <td>...</td>\n",
       "      <td>4</td>\n",
       "      <td>1</td>\n",
       "      <td>3</td>\n",
       "      <td>2</td>\n",
       "      <td>1</td>\n",
       "      <td>2</td>\n",
       "      <td>9</td>\n",
       "      <td>3</td>\n",
       "      <td>0.0</td>\n",
       "      <td>0.0</td>\n",
       "    </tr>\n",
       "    <tr>\n",
       "      <th>1</th>\n",
       "      <td>4</td>\n",
       "      <td>3</td>\n",
       "      <td>0.0</td>\n",
       "      <td>1.0</td>\n",
       "      <td>0.0</td>\n",
       "      <td>1.0</td>\n",
       "      <td>0.0</td>\n",
       "      <td>1.0</td>\n",
       "      <td>1.0</td>\n",
       "      <td>1</td>\n",
       "      <td>...</td>\n",
       "      <td>4</td>\n",
       "      <td>2</td>\n",
       "      <td>3</td>\n",
       "      <td>2</td>\n",
       "      <td>2</td>\n",
       "      <td>1</td>\n",
       "      <td>2</td>\n",
       "      <td>1</td>\n",
       "      <td>0.0</td>\n",
       "      <td>0.0</td>\n",
       "    </tr>\n",
       "    <tr>\n",
       "      <th>2</th>\n",
       "      <td>2</td>\n",
       "      <td>2</td>\n",
       "      <td>0.0</td>\n",
       "      <td>1.0</td>\n",
       "      <td>0.0</td>\n",
       "      <td>0.0</td>\n",
       "      <td>0.0</td>\n",
       "      <td>0.0</td>\n",
       "      <td>0.0</td>\n",
       "      <td>0</td>\n",
       "      <td>...</td>\n",
       "      <td>4</td>\n",
       "      <td>2</td>\n",
       "      <td>1</td>\n",
       "      <td>2</td>\n",
       "      <td>1</td>\n",
       "      <td>1</td>\n",
       "      <td>10</td>\n",
       "      <td>1</td>\n",
       "      <td>2.0</td>\n",
       "      <td>0.0</td>\n",
       "    </tr>\n",
       "    <tr>\n",
       "      <th>3</th>\n",
       "      <td>2</td>\n",
       "      <td>2</td>\n",
       "      <td>0.0</td>\n",
       "      <td>1.0</td>\n",
       "      <td>0.0</td>\n",
       "      <td>1.0</td>\n",
       "      <td>1.0</td>\n",
       "      <td>0.0</td>\n",
       "      <td>0.0</td>\n",
       "      <td>1</td>\n",
       "      <td>...</td>\n",
       "      <td>4</td>\n",
       "      <td>1</td>\n",
       "      <td>3</td>\n",
       "      <td>2</td>\n",
       "      <td>2</td>\n",
       "      <td>2</td>\n",
       "      <td>6</td>\n",
       "      <td>2</td>\n",
       "      <td>0.0</td>\n",
       "      <td>0.0</td>\n",
       "    </tr>\n",
       "    <tr>\n",
       "      <th>4</th>\n",
       "      <td>3</td>\n",
       "      <td>2</td>\n",
       "      <td>0.0</td>\n",
       "      <td>1.0</td>\n",
       "      <td>0.0</td>\n",
       "      <td>1.0</td>\n",
       "      <td>1.0</td>\n",
       "      <td>0.0</td>\n",
       "      <td>1.0</td>\n",
       "      <td>1</td>\n",
       "      <td>...</td>\n",
       "      <td>4</td>\n",
       "      <td>1</td>\n",
       "      <td>1</td>\n",
       "      <td>1</td>\n",
       "      <td>1</td>\n",
       "      <td>1</td>\n",
       "      <td>10</td>\n",
       "      <td>1</td>\n",
       "      <td>1.0</td>\n",
       "      <td>0.0</td>\n",
       "    </tr>\n",
       "    <tr>\n",
       "      <th>...</th>\n",
       "      <td>...</td>\n",
       "      <td>...</td>\n",
       "      <td>...</td>\n",
       "      <td>...</td>\n",
       "      <td>...</td>\n",
       "      <td>...</td>\n",
       "      <td>...</td>\n",
       "      <td>...</td>\n",
       "      <td>...</td>\n",
       "      <td>...</td>\n",
       "      <td>...</td>\n",
       "      <td>...</td>\n",
       "      <td>...</td>\n",
       "      <td>...</td>\n",
       "      <td>...</td>\n",
       "      <td>...</td>\n",
       "      <td>...</td>\n",
       "      <td>...</td>\n",
       "      <td>...</td>\n",
       "      <td>...</td>\n",
       "      <td>...</td>\n",
       "    </tr>\n",
       "    <tr>\n",
       "      <th>26702</th>\n",
       "      <td>3</td>\n",
       "      <td>1</td>\n",
       "      <td>0.0</td>\n",
       "      <td>1.0</td>\n",
       "      <td>0.0</td>\n",
       "      <td>0.0</td>\n",
       "      <td>0.0</td>\n",
       "      <td>1.0</td>\n",
       "      <td>0.0</td>\n",
       "      <td>1</td>\n",
       "      <td>...</td>\n",
       "      <td>4</td>\n",
       "      <td>1</td>\n",
       "      <td>1</td>\n",
       "      <td>2</td>\n",
       "      <td>1</td>\n",
       "      <td>2</td>\n",
       "      <td>10</td>\n",
       "      <td>3</td>\n",
       "      <td>0.0</td>\n",
       "      <td>0.0</td>\n",
       "    </tr>\n",
       "    <tr>\n",
       "      <th>26703</th>\n",
       "      <td>2</td>\n",
       "      <td>3</td>\n",
       "      <td>0.0</td>\n",
       "      <td>1.0</td>\n",
       "      <td>0.0</td>\n",
       "      <td>1.0</td>\n",
       "      <td>0.0</td>\n",
       "      <td>0.0</td>\n",
       "      <td>0.0</td>\n",
       "      <td>2</td>\n",
       "      <td>...</td>\n",
       "      <td>4</td>\n",
       "      <td>2</td>\n",
       "      <td>1</td>\n",
       "      <td>2</td>\n",
       "      <td>2</td>\n",
       "      <td>1</td>\n",
       "      <td>7</td>\n",
       "      <td>2</td>\n",
       "      <td>1.0</td>\n",
       "      <td>0.0</td>\n",
       "    </tr>\n",
       "    <tr>\n",
       "      <th>26704</th>\n",
       "      <td>3</td>\n",
       "      <td>3</td>\n",
       "      <td>0.0</td>\n",
       "      <td>1.0</td>\n",
       "      <td>1.0</td>\n",
       "      <td>1.0</td>\n",
       "      <td>1.0</td>\n",
       "      <td>0.0</td>\n",
       "      <td>1.0</td>\n",
       "      <td>1</td>\n",
       "      <td>...</td>\n",
       "      <td>4</td>\n",
       "      <td>1</td>\n",
       "      <td>0</td>\n",
       "      <td>2</td>\n",
       "      <td>1</td>\n",
       "      <td>0</td>\n",
       "      <td>7</td>\n",
       "      <td>1</td>\n",
       "      <td>0.0</td>\n",
       "      <td>0.0</td>\n",
       "    </tr>\n",
       "    <tr>\n",
       "      <th>26705</th>\n",
       "      <td>2</td>\n",
       "      <td>2</td>\n",
       "      <td>0.0</td>\n",
       "      <td>0.0</td>\n",
       "      <td>0.0</td>\n",
       "      <td>0.0</td>\n",
       "      <td>0.0</td>\n",
       "      <td>0.0</td>\n",
       "      <td>NaN</td>\n",
       "      <td>1</td>\n",
       "      <td>...</td>\n",
       "      <td>2</td>\n",
       "      <td>1</td>\n",
       "      <td>1</td>\n",
       "      <td>1</td>\n",
       "      <td>2</td>\n",
       "      <td>1</td>\n",
       "      <td>6</td>\n",
       "      <td>3</td>\n",
       "      <td>1.0</td>\n",
       "      <td>0.0</td>\n",
       "    </tr>\n",
       "    <tr>\n",
       "      <th>26706</th>\n",
       "      <td>1</td>\n",
       "      <td>1</td>\n",
       "      <td>0.0</td>\n",
       "      <td>1.0</td>\n",
       "      <td>0.0</td>\n",
       "      <td>0.0</td>\n",
       "      <td>0.0</td>\n",
       "      <td>0.0</td>\n",
       "      <td>0.0</td>\n",
       "      <td>1</td>\n",
       "      <td>...</td>\n",
       "      <td>4</td>\n",
       "      <td>2</td>\n",
       "      <td>1</td>\n",
       "      <td>1</td>\n",
       "      <td>1</td>\n",
       "      <td>2</td>\n",
       "      <td>8</td>\n",
       "      <td>2</td>\n",
       "      <td>1.0</td>\n",
       "      <td>0.0</td>\n",
       "    </tr>\n",
       "  </tbody>\n",
       "</table>\n",
       "<p>26707 rows × 32 columns</p>\n",
       "</div>"
      ],
      "text/plain": [
       "       h1n1_concern  h1n1_knowledge  behavioral_antiviral_meds  \\\n",
       "0                 2               1                        0.0   \n",
       "1                 4               3                        0.0   \n",
       "2                 2               2                        0.0   \n",
       "3                 2               2                        0.0   \n",
       "4                 3               2                        0.0   \n",
       "...             ...             ...                        ...   \n",
       "26702             3               1                        0.0   \n",
       "26703             2               3                        0.0   \n",
       "26704             3               3                        0.0   \n",
       "26705             2               2                        0.0   \n",
       "26706             1               1                        0.0   \n",
       "\n",
       "       behavioral_avoidance  behavioral_face_mask  behavioral_wash_hands  \\\n",
       "0                       0.0                   0.0                    0.0   \n",
       "1                       1.0                   0.0                    1.0   \n",
       "2                       1.0                   0.0                    0.0   \n",
       "3                       1.0                   0.0                    1.0   \n",
       "4                       1.0                   0.0                    1.0   \n",
       "...                     ...                   ...                    ...   \n",
       "26702                   1.0                   0.0                    0.0   \n",
       "26703                   1.0                   0.0                    1.0   \n",
       "26704                   1.0                   1.0                    1.0   \n",
       "26705                   0.0                   0.0                    0.0   \n",
       "26706                   1.0                   0.0                    0.0   \n",
       "\n",
       "       behavioral_large_gatherings  behavioral_outside_home  \\\n",
       "0                              0.0                      1.0   \n",
       "1                              0.0                      1.0   \n",
       "2                              0.0                      0.0   \n",
       "3                              1.0                      0.0   \n",
       "4                              1.0                      0.0   \n",
       "...                            ...                      ...   \n",
       "26702                          0.0                      1.0   \n",
       "26703                          0.0                      0.0   \n",
       "26704                          1.0                      0.0   \n",
       "26705                          0.0                      0.0   \n",
       "26706                          0.0                      0.0   \n",
       "\n",
       "       behavioral_touch_face  doctor_recc_h1n1  ...  race  sex  \\\n",
       "0                        1.0                 1  ...     4    1   \n",
       "1                        1.0                 1  ...     4    2   \n",
       "2                        0.0                 0  ...     4    2   \n",
       "3                        0.0                 1  ...     4    1   \n",
       "4                        1.0                 1  ...     4    1   \n",
       "...                      ...               ...  ...   ...  ...   \n",
       "26702                    0.0                 1  ...     4    1   \n",
       "26703                    0.0                 2  ...     4    2   \n",
       "26704                    1.0                 1  ...     4    1   \n",
       "26705                    NaN                 1  ...     2    1   \n",
       "26706                    0.0                 1  ...     4    2   \n",
       "\n",
       "       income_poverty  marital_status  rent_or_own  employment_status  \\\n",
       "0                   3               2            1                  2   \n",
       "1                   3               2            2                  1   \n",
       "2                   1               2            1                  1   \n",
       "3                   3               2            2                  2   \n",
       "4                   1               1            1                  1   \n",
       "...               ...             ...          ...                ...   \n",
       "26702               1               2            1                  2   \n",
       "26703               1               2            2                  1   \n",
       "26704               0               2            1                  0   \n",
       "26705               1               1            2                  1   \n",
       "26706               1               1            1                  2   \n",
       "\n",
       "       hhs_geo_region  census_msa  household_adults  household_children  \n",
       "0                   9           3               0.0                 0.0  \n",
       "1                   2           1               0.0                 0.0  \n",
       "2                  10           1               2.0                 0.0  \n",
       "3                   6           2               0.0                 0.0  \n",
       "4                  10           1               1.0                 0.0  \n",
       "...               ...         ...               ...                 ...  \n",
       "26702              10           3               0.0                 0.0  \n",
       "26703               7           2               1.0                 0.0  \n",
       "26704               7           1               0.0                 0.0  \n",
       "26705               6           3               1.0                 0.0  \n",
       "26706               8           2               1.0                 0.0  \n",
       "\n",
       "[26707 rows x 32 columns]"
      ]
     },
     "execution_count": 92,
     "metadata": {},
     "output_type": "execute_result"
    }
   ],
   "source": [
    "df_feature"
   ]
  },
  {
   "cell_type": "code",
   "execution_count": null,
   "metadata": {
    "id": "nYeQlBTtjGtK"
   },
   "outputs": [],
   "source": [
    "selector.get_feature_names_out(num_cols)"
   ]
  },
  {
   "cell_type": "code",
   "execution_count": 90,
   "metadata": {
    "executionInfo": {
     "elapsed": 545,
     "status": "ok",
     "timestamp": 1680520101553,
     "user": {
      "displayName": "Yiming Lin",
      "userId": "14561580860602707809"
     },
     "user_tz": -60
    },
    "id": "TLK_8QyoypL-"
   },
   "outputs": [],
   "source": [
    "X = [[row[0]]+[row[1]]+[row[i] for i in range(9,12)]+[row[i] for i in range(13,20)] for row in data]\n",
    "y = df_label['h1n1_vaccine']\n",
    "y_sea = df_label['seasonal_vaccine']\n",
    "y_total = df_label['h1n1_vaccine'] | df_label['seasonal_vaccine']"
   ]
  },
  {
   "cell_type": "code",
   "execution_count": 102,
   "metadata": {
    "executionInfo": {
     "elapsed": 260,
     "status": "ok",
     "timestamp": 1680520108297,
     "user": {
      "displayName": "Yiming Lin",
      "userId": "14561580860602707809"
     },
     "user_tz": -60
    },
    "id": "Mq0OGERuCwgv",
    "trusted": true
   },
   "outputs": [],
   "source": [
    "from sklearn.model_selection import train_test_split\n",
    "\n",
    "X_train, X_test, y_train, y_test = train_test_split(X, y, test_size = 0.3, random_state = 0)"
   ]
  },
  {
   "attachments": {},
   "cell_type": "markdown",
   "metadata": {},
   "source": [
    "## H1N1_vaccine"
   ]
  },
  {
   "attachments": {},
   "cell_type": "markdown",
   "metadata": {},
   "source": [
    "### UnderSampling"
   ]
  },
  {
   "cell_type": "code",
   "execution_count": 21,
   "metadata": {
    "executionInfo": {
     "elapsed": 1943,
     "status": "ok",
     "timestamp": 1680520114248,
     "user": {
      "displayName": "Yiming Lin",
      "userId": "14561580860602707809"
     },
     "user_tz": -60
    },
    "id": "1toEnxMYC7Jp",
    "trusted": true
   },
   "outputs": [],
   "source": [
    "from imblearn.under_sampling import NearMiss\n",
    "nm = NearMiss()\n",
    "X_train,y_train = nm.fit_resample(X_train,y_train)"
   ]
  },
  {
   "attachments": {},
   "cell_type": "markdown",
   "metadata": {},
   "source": [
    "### Oversampling"
   ]
  },
  {
   "cell_type": "code",
   "execution_count": 94,
   "metadata": {},
   "outputs": [],
   "source": [
    "from imblearn.over_sampling import SVMSMOTE\n",
    "svmsmo = SVMSMOTE(random_state = 0)\n",
    "X_train,y_train = svmsmo.fit_resample(X_train,y_train)"
   ]
  },
  {
   "cell_type": "code",
   "execution_count": 103,
   "metadata": {},
   "outputs": [],
   "source": [
    "from imblearn.over_sampling import KMeansSMOTE\n",
    "kmsmo = KMeansSMOTE(random_state = 0)\n",
    "X_train,y_train = svmsmo.fit_resample(X_train,y_train)"
   ]
  },
  {
   "cell_type": "code",
   "execution_count": 36,
   "metadata": {},
   "outputs": [],
   "source": [
    "from imblearn.over_sampling import ADASYN\n",
    "ada = ADASYN(random_state = 0)\n",
    "X_train,y_train = ada.fit_resample(X_train,y_train)"
   ]
  },
  {
   "attachments": {},
   "cell_type": "markdown",
   "metadata": {},
   "source": [
    "### Combine Under-Sampling and Over-Sampling"
   ]
  },
  {
   "cell_type": "code",
   "execution_count": 33,
   "metadata": {},
   "outputs": [],
   "source": [
    "from imblearn.combine import SMOTETomek\n",
    "smo = SMOTETomek(random_state=0)\n",
    "X_train,y_train = smo.fit_resample(X_train,y_train)"
   ]
  },
  {
   "cell_type": "code",
   "execution_count": 95,
   "metadata": {
    "colab": {
     "base_uri": "https://localhost:8080/"
    },
    "executionInfo": {
     "elapsed": 4,
     "status": "ok",
     "timestamp": 1680520116824,
     "user": {
      "displayName": "Yiming Lin",
      "userId": "14561580860602707809"
     },
     "user_tz": -60
    },
    "id": "2pLcRoKBC9YG",
    "outputId": "e7794b67-cea1-4c0e-984a-c169ed47f443",
    "trusted": true
   },
   "outputs": [
    {
     "data": {
      "text/plain": [
       "Counter({0: 14754, 1: 14754})"
      ]
     },
     "execution_count": 95,
     "metadata": {},
     "output_type": "execute_result"
    }
   ],
   "source": [
    "from collections import Counter\n",
    "Counter(y_train)"
   ]
  },
  {
   "attachments": {},
   "cell_type": "markdown",
   "metadata": {},
   "source": [
    "### CatBoosting"
   ]
  },
  {
   "cell_type": "code",
   "execution_count": 96,
   "metadata": {},
   "outputs": [],
   "source": [
    "train_data_h1n1 = Pool(data = X_train,label = y_train,cat_features = [0,11])"
   ]
  },
  {
   "cell_type": "code",
   "execution_count": 99,
   "metadata": {},
   "outputs": [],
   "source": [
    "def objective(trial):\n",
    "    params_test1 = {\n",
    "        \"loss_function\":\"Logloss\",\n",
    "        \"eval_metric\":\"AUC\",\n",
    "        \"task_type\":\"GPU\",\n",
    "        'depth':trial.suggest_int(\"depth\", 6,10),\n",
    "        # 'iterations':trial.suggest_categorical('iterations', [100,200,300,500,1000,1200,1500]),\n",
    "        'l2_leaf_reg':trial.suggest_float(\"l2_leaf_reg\", 1e-8, 100),\n",
    "        # 'border_count':trial.suggest_int(\"border_count\", 10,50),\n",
    "        'early_stopping_rounds':trial.suggest_int(\"early_stopping_rounds\", 70,100),\n",
    "        'learning_rate':trial.suggest_float(\"learning_rate\", 0.001, 0.2),\n",
    "        # 'one_hot_max_size':trial.suggest_categorical('one_hot_max_size', [30,40,50,100,150,200,256]),\n",
    "#         \"bootstrap_type\": trial.suggest_categorical(\"bootstrap_type\", [\"Bayesian\", \"Bernoulli\", \"MVS\"]),\n",
    "        \"random_seed\":42,\n",
    "        \"od_type\":\"Iter\",\n",
    "        }\n",
    "\n",
    "    cat1 = CatBoostClassifier(**params_test1).fit(X_train,y_train,cat_features=[0,11],verbose=0)\n",
    "\n",
    "    scores = cv(train_data_h1n1,params_test1,fold_count=5,verbose=0)\n",
    "\n",
    "    return scores['test-AUC-mean'].max()"
   ]
  },
  {
   "cell_type": "code",
   "execution_count": null,
   "metadata": {},
   "outputs": [],
   "source": [
    "study1 = optuna.create_study(sampler = optuna.samplers.TPESampler(seed=42), direction=\"maximize\")\n",
    "study1.optimize(objective, n_trials = 100)"
   ]
  },
  {
   "cell_type": "code",
   "execution_count": null,
   "metadata": {},
   "outputs": [],
   "source": [
    "optuna.visualization.plot_param_importances(study1)"
   ]
  },
  {
   "cell_type": "code",
   "execution_count": null,
   "metadata": {},
   "outputs": [],
   "source": [
    "print(\"Number of completed trials: {}\".format(len(study1.trials))) \n",
    "print(\"Best trial:\") \n",
    "trial1 = study1.best_trial \n",
    " \n",
    "print(\"\\tBest Score: {}\".format(trial1.value)) \n",
    "print(\"\\tBest Params: \") \n",
    "for key, value in trial1.params.items(): \n",
    "    print(\"    {}: {}\".format(key, value))"
   ]
  },
  {
   "cell_type": "code",
   "execution_count": null,
   "metadata": {},
   "outputs": [],
   "source": [
    "param_test1 = {'depth':range(4,10,1)}\n",
    "CB1 = GridSearchCV(estimator = CatBoostClassifier(loss_function=\"Logloss\",eval_metric=\"AUC\",task_type=\"GPU\",random_seed=42,od_type=\"Iter\",), \n",
    "                       param_grid = param_test1, scoring='roc_auc',cv=10)\n",
    "CB1.fit(X_train,y_train)\n",
    "print(CB1.cv_results_,CB1.best_params_, CB1.best_score_)"
   ]
  },
  {
   "cell_type": "code",
   "execution_count": 15,
   "metadata": {},
   "outputs": [],
   "source": [
    "test_param = {\n",
    "    'depth': 10, 'l2_leaf_reg': 1.081744262404328, 'border_count': 50, 'early_stopping_rounds': 100, 'learning_rate': 0.09994014775219827, 'one_hot_max_size': 30\n",
    "}"
   ]
  },
  {
   "attachments": {},
   "cell_type": "markdown",
   "metadata": {},
   "source": [
    "### Evaluation"
   ]
  },
  {
   "cell_type": "code",
   "execution_count": 105,
   "metadata": {},
   "outputs": [
    {
     "name": "stdout",
     "output_type": "stream",
     "text": [
      "Accuracy : 0.7901\n",
      "AUC Score (Train): 0.825479\n"
     ]
    }
   ],
   "source": [
    "model_h1n1 = CatBoostClassifier(verbose=False,  cat_features=[0,11])\n",
    "model_h1n1.fit(X_train,y_train)\n",
    "y_pred_h1n1 = model_h1n1.predict(X_test)\n",
    "y_predprob_h1n1 = model_h1n1.predict_proba(X_test)[:,1]\n",
    "print (\"Accuracy : %.4g\" % metrics.accuracy_score(y_test, y_pred_h1n1))\n",
    "print (\"AUC Score (Train): %f\" % metrics.roc_auc_score(y_test, y_predprob_h1n1))"
   ]
  },
  {
   "cell_type": "code",
   "execution_count": 93,
   "metadata": {
    "colab": {
     "base_uri": "https://localhost:8080/",
     "height": 1000
    },
    "executionInfo": {
     "elapsed": 3082947,
     "status": "ok",
     "timestamp": 1680523273616,
     "user": {
      "displayName": "Yiming Lin",
      "userId": "14561580860602707809"
     },
     "user_tz": -60
    },
    "id": "kPyqeNlF-_7J",
    "outputId": "cb6665e2-2921-4dea-a753-6d517ebf9eb4",
    "trusted": true
   },
   "outputs": [
    {
     "name": "stdout",
     "output_type": "stream",
     "text": [
      "Learning rate set to 0.5\n",
      "0:\tlearn: 0.5294432\ttotal: 2.91ms\tremaining: 26.2ms\n",
      "1:\tlearn: 0.4750291\ttotal: 5.9ms\tremaining: 23.6ms\n",
      "2:\tlearn: 0.4496248\ttotal: 8.41ms\tremaining: 19.6ms\n",
      "3:\tlearn: 0.4377583\ttotal: 10.9ms\tremaining: 16.3ms\n",
      "4:\tlearn: 0.4314124\ttotal: 13.4ms\tremaining: 13.4ms\n",
      "5:\tlearn: 0.4265098\ttotal: 15.8ms\tremaining: 10.6ms\n",
      "6:\tlearn: 0.4238653\ttotal: 18.3ms\tremaining: 7.83ms\n",
      "7:\tlearn: 0.4216008\ttotal: 21.1ms\tremaining: 5.27ms\n",
      "8:\tlearn: 0.4199669\ttotal: 23.7ms\tremaining: 2.64ms\n",
      "9:\tlearn: 0.4182228\ttotal: 26.6ms\tremaining: 0us\n",
      "Learning rate set to 0.5\n",
      "0:\tlearn: 0.5292469\ttotal: 3.21ms\tremaining: 28.9ms\n",
      "1:\tlearn: 0.4753772\ttotal: 6.41ms\tremaining: 25.6ms\n",
      "2:\tlearn: 0.4496226\ttotal: 9.63ms\tremaining: 22.5ms\n",
      "3:\tlearn: 0.4379469\ttotal: 13ms\tremaining: 19.5ms\n",
      "4:\tlearn: 0.4320945\ttotal: 16ms\tremaining: 16ms\n",
      "5:\tlearn: 0.4265368\ttotal: 19.1ms\tremaining: 12.8ms\n",
      "6:\tlearn: 0.4230579\ttotal: 25.5ms\tremaining: 10.9ms\n",
      "7:\tlearn: 0.4213032\ttotal: 32.5ms\tremaining: 8.11ms\n",
      "8:\tlearn: 0.4195997\ttotal: 41.3ms\tremaining: 4.59ms\n",
      "9:\tlearn: 0.4184176\ttotal: 47.6ms\tremaining: 0us\n",
      "Learning rate set to 0.5\n",
      "0:\tlearn: 0.5285083\ttotal: 3.48ms\tremaining: 31.3ms\n",
      "1:\tlearn: 0.4736128\ttotal: 18.3ms\tremaining: 73ms\n",
      "2:\tlearn: 0.4483921\ttotal: 32.8ms\tremaining: 76.5ms\n",
      "3:\tlearn: 0.4364702\ttotal: 44.4ms\tremaining: 66.5ms\n",
      "4:\tlearn: 0.4302222\ttotal: 50.4ms\tremaining: 50.4ms\n",
      "5:\tlearn: 0.4255206\ttotal: 55.4ms\tremaining: 36.9ms\n",
      "6:\tlearn: 0.4234689\ttotal: 59.5ms\tremaining: 25.5ms\n",
      "7:\tlearn: 0.4219179\ttotal: 63.3ms\tremaining: 15.8ms\n",
      "8:\tlearn: 0.4205117\ttotal: 66.9ms\tremaining: 7.43ms\n",
      "9:\tlearn: 0.4192343\ttotal: 70.3ms\tremaining: 0us\n",
      "Learning rate set to 0.5\n",
      "0:\tlearn: 0.5292138\ttotal: 3.86ms\tremaining: 34.8ms\n",
      "1:\tlearn: 0.4753946\ttotal: 6.85ms\tremaining: 27.4ms\n",
      "2:\tlearn: 0.4499579\ttotal: 9.71ms\tremaining: 22.7ms\n",
      "3:\tlearn: 0.4369662\ttotal: 12.4ms\tremaining: 18.7ms\n",
      "4:\tlearn: 0.4301390\ttotal: 15.5ms\tremaining: 15.5ms\n",
      "5:\tlearn: 0.4253565\ttotal: 18.1ms\tremaining: 12.1ms\n",
      "6:\tlearn: 0.4226545\ttotal: 20.6ms\tremaining: 8.84ms\n",
      "7:\tlearn: 0.4208659\ttotal: 23.4ms\tremaining: 5.84ms\n",
      "8:\tlearn: 0.4191171\ttotal: 26.1ms\tremaining: 2.9ms\n",
      "9:\tlearn: 0.4178810\ttotal: 28.8ms\tremaining: 0us\n",
      "Learning rate set to 0.5\n",
      "0:\tlearn: 0.5292957\ttotal: 2.7ms\tremaining: 24.3ms\n",
      "1:\tlearn: 0.4751608\ttotal: 5.24ms\tremaining: 21ms\n",
      "2:\tlearn: 0.4499258\ttotal: 8.27ms\tremaining: 19.3ms\n",
      "3:\tlearn: 0.4372147\ttotal: 11ms\tremaining: 16.5ms\n",
      "4:\tlearn: 0.4307383\ttotal: 13.7ms\tremaining: 13.7ms\n",
      "5:\tlearn: 0.4262268\ttotal: 16.2ms\tremaining: 10.8ms\n",
      "6:\tlearn: 0.4229873\ttotal: 19ms\tremaining: 8.14ms\n",
      "7:\tlearn: 0.4208802\ttotal: 21.7ms\tremaining: 5.43ms\n",
      "8:\tlearn: 0.4195684\ttotal: 24.5ms\tremaining: 2.72ms\n",
      "9:\tlearn: 0.4182368\ttotal: 27.1ms\tremaining: 0us\n",
      "Learning rate set to 0.5\n",
      "0:\tlearn: 0.5296353\ttotal: 2.95ms\tremaining: 26.6ms\n",
      "1:\tlearn: 0.4760186\ttotal: 5.68ms\tremaining: 22.7ms\n",
      "2:\tlearn: 0.4485876\ttotal: 8.39ms\tremaining: 19.6ms\n",
      "3:\tlearn: 0.4372748\ttotal: 10.9ms\tremaining: 16.3ms\n",
      "4:\tlearn: 0.4319322\ttotal: 13.5ms\tremaining: 13.5ms\n",
      "5:\tlearn: 0.4265358\ttotal: 16.2ms\tremaining: 10.8ms\n",
      "6:\tlearn: 0.4239321\ttotal: 19ms\tremaining: 8.15ms\n",
      "7:\tlearn: 0.4218876\ttotal: 22ms\tremaining: 5.5ms\n",
      "8:\tlearn: 0.4199489\ttotal: 25ms\tremaining: 2.77ms\n",
      "9:\tlearn: 0.4184801\ttotal: 27.8ms\tremaining: 0us\n",
      "Learning rate set to 0.5\n",
      "0:\tlearn: 0.5297186\ttotal: 2.76ms\tremaining: 24.8ms\n",
      "1:\tlearn: 0.4751663\ttotal: 5.82ms\tremaining: 23.3ms\n",
      "2:\tlearn: 0.4498125\ttotal: 8.34ms\tremaining: 19.5ms\n",
      "3:\tlearn: 0.4381794\ttotal: 10.9ms\tremaining: 16.3ms\n",
      "4:\tlearn: 0.4320731\ttotal: 13.6ms\tremaining: 13.6ms\n",
      "5:\tlearn: 0.4269812\ttotal: 16.1ms\tremaining: 10.8ms\n",
      "6:\tlearn: 0.4251099\ttotal: 19.1ms\tremaining: 8.18ms\n",
      "7:\tlearn: 0.4233219\ttotal: 21.7ms\tremaining: 5.43ms\n",
      "8:\tlearn: 0.4209417\ttotal: 24.3ms\tremaining: 2.71ms\n",
      "9:\tlearn: 0.4194654\ttotal: 26.9ms\tremaining: 0us\n",
      "Learning rate set to 0.5\n",
      "0:\tlearn: 0.5292994\ttotal: 2.86ms\tremaining: 25.7ms\n",
      "1:\tlearn: 0.4757980\ttotal: 5.9ms\tremaining: 23.6ms\n",
      "2:\tlearn: 0.4490495\ttotal: 8.83ms\tremaining: 20.6ms\n",
      "3:\tlearn: 0.4376536\ttotal: 11.5ms\tremaining: 17.3ms\n",
      "4:\tlearn: 0.4302707\ttotal: 14.4ms\tremaining: 14.4ms\n",
      "5:\tlearn: 0.4256174\ttotal: 17.1ms\tremaining: 11.4ms\n",
      "6:\tlearn: 0.4235882\ttotal: 19.9ms\tremaining: 8.52ms\n",
      "7:\tlearn: 0.4220603\ttotal: 22.9ms\tremaining: 5.72ms\n",
      "8:\tlearn: 0.4204989\ttotal: 25.6ms\tremaining: 2.85ms\n",
      "9:\tlearn: 0.4189260\ttotal: 28.2ms\tremaining: 0us\n",
      "Learning rate set to 0.5\n",
      "0:\tlearn: 0.5293407\ttotal: 2.73ms\tremaining: 24.6ms\n",
      "1:\tlearn: 0.4756361\ttotal: 5.6ms\tremaining: 22.4ms\n",
      "2:\tlearn: 0.4484411\ttotal: 8.55ms\tremaining: 20ms\n",
      "3:\tlearn: 0.4369786\ttotal: 11.1ms\tremaining: 16.7ms\n",
      "4:\tlearn: 0.4309218\ttotal: 14ms\tremaining: 14ms\n",
      "5:\tlearn: 0.4260669\ttotal: 17.3ms\tremaining: 11.5ms\n",
      "6:\tlearn: 0.4234477\ttotal: 21ms\tremaining: 9.01ms\n",
      "7:\tlearn: 0.4213996\ttotal: 24.7ms\tremaining: 6.18ms\n",
      "8:\tlearn: 0.4198283\ttotal: 27.7ms\tremaining: 3.07ms\n",
      "9:\tlearn: 0.4185879\ttotal: 31ms\tremaining: 0us\n",
      "Learning rate set to 0.5\n",
      "0:\tlearn: 0.5284548\ttotal: 3.03ms\tremaining: 27.3ms\n",
      "1:\tlearn: 0.4719174\ttotal: 5.94ms\tremaining: 23.7ms\n",
      "2:\tlearn: 0.4466878\ttotal: 8.8ms\tremaining: 20.5ms\n",
      "3:\tlearn: 0.4352889\ttotal: 11.6ms\tremaining: 17.5ms\n",
      "4:\tlearn: 0.4284517\ttotal: 14.5ms\tremaining: 14.5ms\n",
      "5:\tlearn: 0.4235697\ttotal: 17.2ms\tremaining: 11.5ms\n",
      "6:\tlearn: 0.4210709\ttotal: 20.8ms\tremaining: 8.9ms\n",
      "7:\tlearn: 0.4189431\ttotal: 23.5ms\tremaining: 5.88ms\n",
      "8:\tlearn: 0.4170335\ttotal: 26.4ms\tremaining: 2.93ms\n",
      "9:\tlearn: 0.4157216\ttotal: 29.2ms\tremaining: 0us\n"
     ]
    },
    {
     "data": {
      "image/png": "[encoded data removed]",
      "text/plain": [
       "<Figure size 1100x500 with 1 Axes>"
      ]
     },
     "metadata": {},
     "output_type": "display_data"
    }
   ],
   "source": [
    "# scores = cross_val_score(model, X, y, cv=10,scoring='roc_auc')\n",
    "# plt.figure(figsize=(11,5))\n",
    "# labels = [1, 2, 3, 4, 5,6,7,8,9,10]\n",
    "# plt.plot(labels, scores, label=u'roc_auc')\n",
    "# plt.xticks(labels)\n",
    "# for x, y in zip((labels), scores):\n",
    "#     plt.text(x, y,\"%.2f\" % y, ha=\"center\", va=\"bottom\",fontsize=10)\n",
    "# plt.title(\"Cross validation\")\n",
    "# plt.legend()\n",
    "# plt.show()"
   ]
  },
  {
   "cell_type": "code",
   "execution_count": 100,
   "metadata": {
    "colab": {
     "base_uri": "https://localhost:8080/",
     "height": 449
    },
    "executionInfo": {
     "elapsed": 1426,
     "status": "ok",
     "timestamp": 1680523668899,
     "user": {
      "displayName": "Yiming Lin",
      "userId": "14561580860602707809"
     },
     "user_tz": -60
    },
    "id": "8ysVsno1ypMB",
    "outputId": "db7d4c09-b6c3-4a00-8258-edddab6ff104"
   },
   "outputs": [
    {
     "data": {
      "image/png": "[encoded data removed]",
      "text/plain": [
       "<Figure size 640x480 with 1 Axes>"
      ]
     },
     "metadata": {},
     "output_type": "display_data"
    }
   ],
   "source": [
    "svc_disp = RocCurveDisplay.from_estimator(model_h1n1, X_test, y_test)\n",
    "plt.plot([0, 1], [0, 1], '--', color=(0.6, 0.6, 0.6), label='Random')\n",
    "plt.show()"
   ]
  },
  {
   "cell_type": "code",
   "execution_count": 106,
   "metadata": {
    "colab": {
     "base_uri": "https://localhost:8080/",
     "height": 474
    },
    "executionInfo": {
     "elapsed": 589,
     "status": "ok",
     "timestamp": 1680526155396,
     "user": {
      "displayName": "Yiming Lin",
      "userId": "14561580860602707809"
     },
     "user_tz": -60
    },
    "id": "KL1E6E3YJ1lQ",
    "outputId": "f6f75bb0-97b5-4123-c492-7e3d7420482d"
   },
   "outputs": [
    {
     "name": "stdout",
     "output_type": "stream",
     "text": [
      "              precision    recall  f1-score   support\n",
      "\n",
      "           0       0.91      0.81      0.86      6279\n",
      "           1       0.51      0.70      0.59      1734\n",
      "\n",
      "    accuracy                           0.79      8013\n",
      "   macro avg       0.71      0.76      0.73      8013\n",
      "weighted avg       0.82      0.79      0.80      8013\n",
      "\n"
     ]
    },
    {
     "data": {
      "image/png": "[encoded data removed]",
      "text/plain": [
       "<Figure size 300x300 with 1 Axes>"
      ]
     },
     "metadata": {},
     "output_type": "display_data"
    }
   ],
   "source": [
    "cm = confusion_matrix(y_test, y_pred_h1n1)\n",
    "# Plot confusion matrix, \n",
    "fig, ax = plt.subplots(figsize=(3, 3))\n",
    "ax.matshow(cm, cmap=plt.cm.Blues, alpha=0.3)\n",
    "for i in range(cm.shape[0]):\n",
    "    for j in range(cm.shape[1]):\n",
    "        ax.text(x=j, y=i,\n",
    "            s=cm[i, j], \n",
    "            va='center', ha='center')\n",
    "        \n",
    "classes=[\"0\",\"1\"]\n",
    "tick_marks = np.arange(len(classes))\n",
    "plt.xticks(tick_marks, classes, rotation=45)\n",
    "plt.yticks(tick_marks, classes)\n",
    "plt.xlabel('Predicted Values', )\n",
    "plt.ylabel('Actual Values');\n",
    "print(classification_report(y_test, y_pred_h1n1))"
   ]
  },
  {
   "attachments": {},
   "cell_type": "markdown",
   "metadata": {},
   "source": [
    "## Seaconal_vaccine"
   ]
  },
  {
   "attachments": {},
   "cell_type": "markdown",
   "metadata": {},
   "source": [
    "### CatBoosting"
   ]
  },
  {
   "cell_type": "code",
   "execution_count": 14,
   "metadata": {},
   "outputs": [],
   "source": [
    "from sklearn.model_selection import train_test_split\n",
    "\n",
    "X_train, X_test, y_sea_train, y_sea_test = train_test_split(X, y_sea, test_size = 0.2, random_state = 0)"
   ]
  },
  {
   "cell_type": "code",
   "execution_count": 73,
   "metadata": {},
   "outputs": [],
   "source": [
    "train_data_seasonal = Pool(data = X_train,label = y_sea_train,cat_features = [0,11])"
   ]
  },
  {
   "cell_type": "code",
   "execution_count": 90,
   "metadata": {},
   "outputs": [],
   "source": [
    "def objective2(trial):\n",
    "    params_test2 = {\n",
    "        \"loss_function\":\"Logloss\",\n",
    "        \"eval_metric\":\"AUC\",\n",
    "        \"task_type\":\"GPU\",\n",
    "        'depth':trial.suggest_int(\"depth\", 2,10),\n",
    "        # 'iterations':trial.suggest_categorical('iterations', [500,1000,3000,5000,10000,15000,20000]),\n",
    "        'l2_leaf_reg':trial.suggest_float(\"l2_leaf_reg\", 1e-8, 100),\n",
    "        'border_count':trial.suggest_int(\"border_count\", 10,50),\n",
    "        'early_stopping_rounds':trial.suggest_int(\"early_stopping_rounds\", 10,100),\n",
    "        'learning_rate':trial.suggest_float(\"learning_rate\", 0.001, 0.3),\n",
    "        'one_hot_max_size':trial.suggest_categorical('one_hot_max_size', [10,31,50,100,150,200,256]),\n",
    "        \"boosting_type\": trial.suggest_categorical(\"boosting_type\", [\"Ordered\", \"Plain\"]),\n",
    "        \"bootstrap_type\": trial.suggest_categorical(\"bootstrap_type\", [\"Bayesian\", \"Bernoulli\", \"MVS\"]),\n",
    "        \"random_seed\":42,\n",
    "        \"od_type\":\"Iter\"\n",
    "        }\n",
    "    \n",
    "    if params_test2[\"bootstrap_type\"] == \"Bayesian\":\n",
    "        params_test2[\"bagging_temperature\"] = trial.suggest_float(\"bagging_temperature\", 0, 10)\n",
    "    elif params_test2[\"bootstrap_type\"] == \"Bernoulli\":\n",
    "        params_test2[\"subsample\"] = trial.suggest_float(\"subsample\", 0.1, 1)\n",
    "\n",
    "    cat2 = CatBoostClassifier(**params_test2).fit(X_train,y_sea_train,cat_features=[0,11],verbose=0)\n",
    "\n",
    "    scores = f1_score(y_sea_test,cat2.predict(X_test))\n",
    "    # avg = scores.mean()\n",
    "    return scores"
   ]
  },
  {
   "cell_type": "code",
   "execution_count": null,
   "metadata": {},
   "outputs": [],
   "source": [
    "study2 = optuna.create_study(sampler = optuna.samplers.TPESampler(seed=42), direction=\"maximize\")\n",
    "study2.optimize(objective2, n_trials = 100)"
   ]
  },
  {
   "cell_type": "code",
   "execution_count": null,
   "metadata": {},
   "outputs": [],
   "source": [
    "optuna.visualization.plot_param_importances(study2)"
   ]
  },
  {
   "cell_type": "code",
   "execution_count": null,
   "metadata": {},
   "outputs": [],
   "source": [
    "print(\"Number of completed trials: {}\".format(len(study2.trials))) \n",
    "print(\"Best trial:\") \n",
    "trial2 = study2.best_trial \n",
    " \n",
    "print(\"\\tBest Score: {}\".format(trial2.value)) \n",
    "print(\"\\tBest Params: \") \n",
    "for key, value in trial2.params.items(): \n",
    "    print(\"    {}: {}\".format(key, value))"
   ]
  },
  {
   "attachments": {},
   "cell_type": "markdown",
   "metadata": {},
   "source": [
    "### Evaluation"
   ]
  },
  {
   "cell_type": "code",
   "execution_count": null,
   "metadata": {},
   "outputs": [],
   "source": [
    "model_seasonal = CatBoostClassifier(verbose=False,  cat_features=[0,11], **trial2.params)\n",
    "model_seasonal.fit(X_train,y_sea_train)\n",
    "y_pred_seasonal = model_seasonal.predict(X_test)\n",
    "y_predprob_seasonal = model_seasonal.predict_proba(X_test)[:,1]\n",
    "print (\"Accuracy : %.4g\" % metrics.accuracy_score(y_sea_test, y_pred_seasonal))\n",
    "print (\"AUC Score (Train): %f\" % metrics.roc_auc_score(y_sea_test, y_predprob_seasonal))"
   ]
  },
  {
   "cell_type": "code",
   "execution_count": null,
   "metadata": {},
   "outputs": [],
   "source": [
    "svc_disp = RocCurveDisplay.from_estimator(model_seasonal, X_test, y_sea_test)\n",
    "plt.plot([0, 1], [0, 1], '--', color=(0.6, 0.6, 0.6), label='Random')\n",
    "plt.show()"
   ]
  },
  {
   "cell_type": "code",
   "execution_count": null,
   "metadata": {},
   "outputs": [],
   "source": [
    "cm = confusion_matrix(y_sea_test, y_pred_seasonal)\n",
    "# Plot confusion matrix, \n",
    "fig, ax = plt.subplots(figsize=(3, 3))\n",
    "ax.matshow(cm, cmap=plt.cm.Blues, alpha=0.3)\n",
    "for i in range(cm.shape[0]):\n",
    "    for j in range(cm.shape[1]):\n",
    "        ax.text(x=j, y=i,\n",
    "            s=cm[i, j], \n",
    "            va='center', ha='center')\n",
    "        \n",
    "classes=[\"0\",\"1\"]\n",
    "tick_marks = np.arange(len(classes))\n",
    "plt.xticks(tick_marks, classes, rotation=45)\n",
    "plt.yticks(tick_marks, classes)\n",
    "plt.xlabel('Predicted Values', )\n",
    "plt.ylabel('Actual Values');\n",
    "print(classification_report(y_sea_test, y_pred_seasonal))"
   ]
  },
  {
   "attachments": {},
   "cell_type": "markdown",
   "metadata": {},
   "source": [
    "## Total"
   ]
  },
  {
   "cell_type": "code",
   "execution_count": null,
   "metadata": {},
   "outputs": [],
   "source": [
    "from sklearn.model_selection import train_test_split\n",
    "\n",
    "X_train, X_test, y_total_train, y_total_test = train_test_split(X, y_total, test_size = 0.2, random_state = 0)"
   ]
  },
  {
   "cell_type": "code",
   "execution_count": null,
   "metadata": {},
   "outputs": [],
   "source": [
    "train_data_seasonal = Pool(data = X_train,label = y_total_train,\n",
    "                       cat_features = [0,11])"
   ]
  },
  {
   "cell_type": "code",
   "execution_count": null,
   "metadata": {},
   "outputs": [],
   "source": [
    "def objective3(trial):\n",
    "    params_test3 = {\n",
    "        \"loss_function\":\"Logloss\",\n",
    "        \"eval_metric\":\"AUC\",\n",
    "        \"task_type\":\"GPU\",\n",
    "        'depth':trial.suggest_int(\"depth\", 2,10),\n",
    "        # 'iterations':trial.suggest_categorical('iterations', [500,1000,3000,5000,10000,15000,20000]),\n",
    "        'l2_leaf_reg':trial.suggest_float(\"l2_leaf_reg\", 1e-8, 100),\n",
    "        'border_count':trial.suggest_int(\"border_count\", 10,50),\n",
    "        'early_stopping_rounds':trial.suggest_int(\"early_stopping_rounds\", 10,100),\n",
    "        'learning_rate':trial.suggest_float(\"learning_rate\", 0.001, 0.3),\n",
    "        'one_hot_max_size':trial.suggest_categorical('one_hot_max_size', [10,31,50,100,150,200,256]),\n",
    "        \"boosting_type\": trial.suggest_categorical(\"boosting_type\", [\"Ordered\", \"Plain\"]),\n",
    "        \"bootstrap_type\": trial.suggest_categorical(\"bootstrap_type\", [\"Bayesian\", \"Bernoulli\", \"MVS\"]),\n",
    "        \"random_seed\":42,\n",
    "        \"od_type\":\"Iter\"\n",
    "        }\n",
    "    \n",
    "    if params_test3[\"bootstrap_type\"] == \"Bayesian\":\n",
    "        params_test3[\"bagging_temperature\"] = trial.suggest_float(\"bagging_temperature\", 0, 10)\n",
    "    elif params_test3[\"bootstrap_type\"] == \"Bernoulli\":\n",
    "        params_test3[\"subsample\"] = trial.suggest_float(\"subsample\", 0.1, 1)\n",
    "\n",
    "    cat3 = CatBoostClassifier(**params_test3).fit(X_train,y_total_train,cat_features=[0,11],verbose=0)\n",
    "\n",
    "    scores = f1_score(y_total_test,cat3.predict(X_test))\n",
    "    # avg = scores.mean()\n",
    "    return scores"
   ]
  },
  {
   "cell_type": "code",
   "execution_count": null,
   "metadata": {},
   "outputs": [],
   "source": [
    "study3 = optuna.create_study(sampler = optuna.samplers.TPESampler(seed=42), direction=\"maximize\")\n",
    "study3.optimize(objective3, n_trials = 100)"
   ]
  },
  {
   "cell_type": "code",
   "execution_count": null,
   "metadata": {},
   "outputs": [],
   "source": [
    "optuna.visualization.plot_param_importances(study3)"
   ]
  },
  {
   "cell_type": "code",
   "execution_count": null,
   "metadata": {},
   "outputs": [],
   "source": [
    "print(\"Number of completed trials: {}\".format(len(study3.trials))) \n",
    "print(\"Best trial:\") \n",
    "trial3 = study3.best_trial \n",
    " \n",
    "print(\"\\tBest Score: {}\".format(trial3.value)) \n",
    "print(\"\\tBest Params: \") \n",
    "for key, value in trial3.params.items(): \n",
    "    print(\"    {}: {}\".format(key, value))"
   ]
  }
 ],
 "metadata": {
  "colab": {
   "provenance": []
  },
  "kernelspec": {
   "display_name": "mle_tf",
   "language": "python",
   "name": "python3"
  },
  "language_info": {
   "codemirror_mode": {
    "name": "ipython",
    "version": 3
   },
   "file_extension": ".py",
   "mimetype": "text/x-python",
   "name": "python",
   "nbconvert_exporter": "python",
   "pygments_lexer": "ipython3",
   "version": "3.9.13"
  },
  "vscode": {
   "interpreter": {
    "hash": "fddd058380f18197d6d1449e4a4ff4a7ca6e7a82388d160542fc7dc2e7788eb2"
   }
  }
 },
 "nbformat": 4,
 "nbformat_minor": 0
}
